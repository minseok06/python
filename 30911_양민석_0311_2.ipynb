{
 "cells": [
  {
   "cell_type": "markdown",
   "id": "2fa859c0",
   "metadata": {},
   "source": [
    "## 문제 30번\n",
    "영문자 1개를 입력받아 10진수 유니코드(Unicode) 값으로 출력해보자.\n",
    "\n",
    "예시\n",
    "n = ord(input())\n",
    "print(n)\n",
    "\n",
    "참고\n",
    "n = ord(input())  #입력받은 문자를 10진수 유니코드 값으로 변환한 후, n에 저장한다.\n",
    "\n",
    "ord( ) 는 어떤 문자의 순서 위치(ordinal position) 값을 의미한다.  \n",
    "실제로 각각의 문자들에는 연속된 정수 값이 순서에 따라 부여 되어 있다. A:65, B:66, C:67 .... \n",
    "ord(c) : 문자 c 를 10진수로 변환한 값 \n",
    "\n",
    "컴퓨터로 저장되고 처리되는 모든 데이터들은 2진수 형태로 정수화 되어야 하는데,\n",
    "컴퓨터에 문자를 저장하는 방법으로 아스키코드(ASCII Code)나 유니코드(Unicode)가 자주 사용된다.\n",
    "\n",
    "예를 들어, 영문 대문자 'A'는 10진수 값 65 로 표현하고, \n",
    "2진수(binary digit) 값 1000001 로 바꾸어 컴퓨터 내부에 저장한다. \n",
    "\n",
    "유니코드(unicode)는 세계 여러 나라의 문자를 공통된 코드 값으로 저장할 때 사용하는 표준 코드이다."
   ]
  },
  {
   "cell_type": "code",
   "execution_count": 45,
   "id": "0641c840",
   "metadata": {},
   "outputs": [
    {
     "name": "stdout",
     "output_type": "stream",
     "text": [
      "A\n",
      "65\n"
     ]
    }
   ],
   "source": [
    "n = ord(input())\n",
    "print(n)"
   ]
  },
  {
   "cell_type": "markdown",
   "id": "e265f980",
   "metadata": {},
   "source": [
    "## 문제 31번\n",
    "10진 정수 1개를 입력받아\n",
    "유니코드 문자로 출력해보자.\n",
    "\n",
    "\n",
    "예시\n",
    "c = int(input())\n",
    "print(chr(c))  #c에 저장되어 있는 정수 값을 유니코드 문자(chracter)로 바꿔 출력한다. \n",
    "\n",
    "\n",
    "참고\n",
    "입력은 기본적으로 모두 문자열로 입력되는 것이라고 할 수 있다. \n",
    "따라서, 입력 값이 문자/문자열/정수/실수인지에 따라서 먼저 정확하게 변환시킨 다음에 사용하거나 계산하는 것이 좋다.\n",
    "\n",
    "예를 들어 123 이 입력 되었다고 한다면, 이건 정수일까? 문자열일까?\n",
    "조금 생각해보면, 입력된 것만 보고는 그 값이 어떤 데이터인지 알 수 없다는 것을 쉽게 이해할 수 있다.\n",
    "따라서, 그 입력 값을 어떻게 해석하고 변환할 지에 대해서 명확하게 작성해 주어야 하는 것이다. \n",
    "\n",
    "chr( )는 정수값->문자, ord( )는 문자->정수값 형태로 바꿔주는 서로 반대 방향으로 바꾸어 주는 기능을 한다."
   ]
  },
  {
   "cell_type": "code",
   "execution_count": 44,
   "id": "29a5589a",
   "metadata": {},
   "outputs": [
    {
     "name": "stdout",
     "output_type": "stream",
     "text": [
      "65\n",
      "A\n"
     ]
    }
   ],
   "source": [
    "c = int(input())\n",
    "print(chr(c))"
   ]
  },
  {
   "cell_type": "markdown",
   "id": "57b09741",
   "metadata": {},
   "source": [
    "## 문제 32번\n",
    "입력된 정수의 부호를 바꿔 출력해보자.\n",
    "\n",
    "\n",
    "예시 \n",
    "... \n",
    "print(-n) \n",
    "\n",
    "참고 \n",
    "단항(unary) 연산자인 -(negative)를 변수 앞에 붙이면 부호가 반대인 값이 된다. "
   ]
  },
  {
   "cell_type": "code",
   "execution_count": 36,
   "id": "362173b6",
   "metadata": {},
   "outputs": [
    {
     "name": "stdout",
     "output_type": "stream",
     "text": [
      "1\n",
      "-1\n"
     ]
    }
   ],
   "source": [
    "a = int(input())\n",
    "print(-a)"
   ]
  },
  {
   "cell_type": "markdown",
   "id": "58ecc0a4",
   "metadata": {},
   "source": [
    "## 문제 33번\n",
    "문자 1개를 입력받아 그 다음 문자를 출력해보자.\n",
    "영문자 'A'의 다음 문자는 'B'이고, 숫자 '0'의 다음 문자는 '1'이다.\n",
    "\n",
    "예시\n",
    "...\n",
    "print(chr(n+1))\n",
    "\n",
    "참고\n",
    "숫자는 수를 표현하는 문자로서 '0' 은 문자 그 자체를 의미하고, 0은 값을 의미한다.\n",
    "\n",
    "힌트\n",
    "아스키문자표에서 'A'는 10진수 65로 저장되고 'B'는 10진수 66으로 저장된다.\n",
    "따라서, 문자도 값으로 덧셈을 할 수 있다. 어떤 문자의 값에 1을 더하면 그 다음 문자의 값이 된다."
   ]
  },
  {
   "cell_type": "code",
   "execution_count": 35,
   "id": "85e9eedc",
   "metadata": {},
   "outputs": [
    {
     "name": "stdout",
     "output_type": "stream",
     "text": [
      "A\n",
      "B\n"
     ]
    }
   ],
   "source": [
    "a = input()\n",
    "n = ord(a)\n",
    "print(chr(n+1))"
   ]
  },
  {
   "cell_type": "markdown",
   "id": "af4de807",
   "metadata": {},
   "source": [
    "## 문제 34번\n",
    "정수 2개(a, b)를 입력받아 a에서 b를 뺀 차를 출력하는 프로그램을 작성해보자.\n",
    "\n",
    "예시\n",
    "...\n",
    "c = a - b\n",
    "print(c)\n",
    "\n",
    "참고\n",
    "수 - 수는 차(subtraction)가 계산된다."
   ]
  },
  {
   "cell_type": "code",
   "execution_count": 30,
   "id": "a8e3642b",
   "metadata": {},
   "outputs": [
    {
     "name": "stdout",
     "output_type": "stream",
     "text": [
      "123 -123\n",
      "246\n"
     ]
    }
   ],
   "source": [
    "a, b = input().split()\n",
    "a = int(a)\n",
    "b = int(b)\n",
    "c = a - b\n",
    "print(c)"
   ]
  }
 ],
 "metadata": {
  "kernelspec": {
   "display_name": "Python 3 (ipykernel)",
   "language": "python",
   "name": "python3"
  },
  "language_info": {
   "codemirror_mode": {
    "name": "ipython",
    "version": 3
   },
   "file_extension": ".py",
   "mimetype": "text/x-python",
   "name": "python",
   "nbconvert_exporter": "python",
   "pygments_lexer": "ipython3",
   "version": "3.9.7"
  }
 },
 "nbformat": 4,
 "nbformat_minor": 5
}
