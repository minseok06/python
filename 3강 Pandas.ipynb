{
 "cells": [
  {
   "cell_type": "code",
   "execution_count": 302,
   "id": "849f7129",
   "metadata": {},
   "outputs": [],
   "source": [
    "import numpy as np\n",
    "import pandas as pd"
   ]
  },
  {
   "cell_type": "code",
   "execution_count": 303,
   "id": "698d8651",
   "metadata": {},
   "outputs": [],
   "source": [
    "labels = ['a','b','c']\n",
    "my_list = [10,20,30]\n",
    "arr = np.array([10,20,30])\n",
    "d = {'a':10,'b':20,'c':30}"
   ]
  },
  {
   "cell_type": "code",
   "execution_count": 304,
   "id": "8889964c",
   "metadata": {},
   "outputs": [
    {
     "data": {
      "text/plain": [
       "0    10\n",
       "1    20\n",
       "2    30\n",
       "dtype: int64"
      ]
     },
     "execution_count": 304,
     "metadata": {},
     "output_type": "execute_result"
    }
   ],
   "source": [
    "pd.Series(data=my_list)"
   ]
  },
  {
   "cell_type": "code",
   "execution_count": 305,
   "id": "0efb327a",
   "metadata": {},
   "outputs": [
    {
     "data": {
      "text/plain": [
       "a    10\n",
       "b    20\n",
       "c    30\n",
       "dtype: int64"
      ]
     },
     "execution_count": 305,
     "metadata": {},
     "output_type": "execute_result"
    }
   ],
   "source": [
    "pd.Series(data=d)"
   ]
  },
  {
   "cell_type": "code",
   "execution_count": 306,
   "id": "f90c8cdf",
   "metadata": {},
   "outputs": [
    {
     "data": {
      "text/plain": [
       "a    10\n",
       "b    20\n",
       "c    30\n",
       "dtype: int64"
      ]
     },
     "execution_count": 306,
     "metadata": {},
     "output_type": "execute_result"
    }
   ],
   "source": [
    "pd.Series(data=my_list, index=labels)"
   ]
  },
  {
   "cell_type": "code",
   "execution_count": 307,
   "id": "2931e6d8",
   "metadata": {},
   "outputs": [
    {
     "data": {
      "text/plain": [
       "a    10\n",
       "b    20\n",
       "c    30\n",
       "dtype: int64"
      ]
     },
     "execution_count": 307,
     "metadata": {},
     "output_type": "execute_result"
    }
   ],
   "source": [
    "pd.Series(my_list, labels)"
   ]
  },
  {
   "cell_type": "code",
   "execution_count": 308,
   "id": "033e7194",
   "metadata": {},
   "outputs": [
    {
     "data": {
      "text/plain": [
       "0    1\n",
       "1    2\n",
       "2    3\n",
       "dtype: int64"
      ]
     },
     "execution_count": 308,
     "metadata": {},
     "output_type": "execute_result"
    }
   ],
   "source": [
    "pd.Series([1,2,3])"
   ]
  },
  {
   "cell_type": "code",
   "execution_count": 309,
   "id": "93a3f488",
   "metadata": {},
   "outputs": [
    {
     "data": {
      "text/plain": [
       "usa        1\n",
       "germany    2\n",
       "ussr       3\n",
       "japan      4\n",
       "dtype: int64"
      ]
     },
     "execution_count": 309,
     "metadata": {},
     "output_type": "execute_result"
    }
   ],
   "source": [
    "ser1 = pd.Series([1,2,3,4],['usa','germany','ussr','japan'])\n",
    "ser1"
   ]
  },
  {
   "cell_type": "code",
   "execution_count": 310,
   "id": "de441e4b",
   "metadata": {},
   "outputs": [
    {
     "data": {
      "text/plain": [
       "1"
      ]
     },
     "execution_count": 310,
     "metadata": {},
     "output_type": "execute_result"
    }
   ],
   "source": [
    "ser1[0]"
   ]
  },
  {
   "cell_type": "code",
   "execution_count": 311,
   "id": "3321bfb1",
   "metadata": {},
   "outputs": [
    {
     "data": {
      "text/html": [
       "<div>\n",
       "<style scoped>\n",
       "    .dataframe tbody tr th:only-of-type {\n",
       "        vertical-align: middle;\n",
       "    }\n",
       "\n",
       "    .dataframe tbody tr th {\n",
       "        vertical-align: top;\n",
       "    }\n",
       "\n",
       "    .dataframe thead th {\n",
       "        text-align: right;\n",
       "    }\n",
       "</style>\n",
       "<table border=\"1\" class=\"dataframe\">\n",
       "  <thead>\n",
       "    <tr style=\"text-align: right;\">\n",
       "      <th></th>\n",
       "      <th>W</th>\n",
       "      <th>X</th>\n",
       "      <th>Y</th>\n",
       "      <th>Z</th>\n",
       "    </tr>\n",
       "  </thead>\n",
       "  <tbody>\n",
       "    <tr>\n",
       "      <th>A</th>\n",
       "      <td>0.441227</td>\n",
       "      <td>-0.330870</td>\n",
       "      <td>2.430771</td>\n",
       "      <td>-0.252092</td>\n",
       "    </tr>\n",
       "    <tr>\n",
       "      <th>B</th>\n",
       "      <td>0.109610</td>\n",
       "      <td>1.582481</td>\n",
       "      <td>-0.909232</td>\n",
       "      <td>-0.591637</td>\n",
       "    </tr>\n",
       "    <tr>\n",
       "      <th>C</th>\n",
       "      <td>0.187603</td>\n",
       "      <td>-0.329870</td>\n",
       "      <td>-1.192765</td>\n",
       "      <td>-0.204877</td>\n",
       "    </tr>\n",
       "    <tr>\n",
       "      <th>D</th>\n",
       "      <td>-0.358829</td>\n",
       "      <td>0.603472</td>\n",
       "      <td>-1.664789</td>\n",
       "      <td>-0.700179</td>\n",
       "    </tr>\n",
       "    <tr>\n",
       "      <th>E</th>\n",
       "      <td>1.151391</td>\n",
       "      <td>1.857331</td>\n",
       "      <td>-1.511180</td>\n",
       "      <td>0.644848</td>\n",
       "    </tr>\n",
       "  </tbody>\n",
       "</table>\n",
       "</div>"
      ],
      "text/plain": [
       "          W         X         Y         Z\n",
       "A  0.441227 -0.330870  2.430771 -0.252092\n",
       "B  0.109610  1.582481 -0.909232 -0.591637\n",
       "C  0.187603 -0.329870 -1.192765 -0.204877\n",
       "D -0.358829  0.603472 -1.664789 -0.700179\n",
       "E  1.151391  1.857331 -1.511180  0.644848"
      ]
     },
     "execution_count": 311,
     "metadata": {},
     "output_type": "execute_result"
    }
   ],
   "source": [
    "from numpy.random import randn\n",
    "np.random.seed(5)\n",
    "\n",
    "df = pd.DataFrame(randn(5,4),index='A B C D E'.split(),columns='W X Y Z'.split())\n",
    "df"
   ]
  },
  {
   "cell_type": "code",
   "execution_count": 312,
   "id": "861a0a10",
   "metadata": {},
   "outputs": [
    {
     "data": {
      "text/html": [
       "<div>\n",
       "<style scoped>\n",
       "    .dataframe tbody tr th:only-of-type {\n",
       "        vertical-align: middle;\n",
       "    }\n",
       "\n",
       "    .dataframe tbody tr th {\n",
       "        vertical-align: top;\n",
       "    }\n",
       "\n",
       "    .dataframe thead th {\n",
       "        text-align: right;\n",
       "    }\n",
       "</style>\n",
       "<table border=\"1\" class=\"dataframe\">\n",
       "  <thead>\n",
       "    <tr style=\"text-align: right;\">\n",
       "      <th></th>\n",
       "      <th>W</th>\n",
       "      <th>X</th>\n",
       "      <th>Y</th>\n",
       "      <th>Z</th>\n",
       "    </tr>\n",
       "  </thead>\n",
       "  <tbody>\n",
       "    <tr>\n",
       "      <th>A</th>\n",
       "      <td>0.441227</td>\n",
       "      <td>-0.330870</td>\n",
       "      <td>2.430771</td>\n",
       "      <td>-0.252092</td>\n",
       "    </tr>\n",
       "    <tr>\n",
       "      <th>B</th>\n",
       "      <td>0.109610</td>\n",
       "      <td>1.582481</td>\n",
       "      <td>-0.909232</td>\n",
       "      <td>-0.591637</td>\n",
       "    </tr>\n",
       "    <tr>\n",
       "      <th>C</th>\n",
       "      <td>0.187603</td>\n",
       "      <td>-0.329870</td>\n",
       "      <td>-1.192765</td>\n",
       "      <td>-0.204877</td>\n",
       "    </tr>\n",
       "    <tr>\n",
       "      <th>D</th>\n",
       "      <td>-0.358829</td>\n",
       "      <td>0.603472</td>\n",
       "      <td>-1.664789</td>\n",
       "      <td>-0.700179</td>\n",
       "    </tr>\n",
       "    <tr>\n",
       "      <th>E</th>\n",
       "      <td>1.151391</td>\n",
       "      <td>1.857331</td>\n",
       "      <td>-1.511180</td>\n",
       "      <td>0.644848</td>\n",
       "    </tr>\n",
       "  </tbody>\n",
       "</table>\n",
       "</div>"
      ],
      "text/plain": [
       "          W         X         Y         Z\n",
       "A  0.441227 -0.330870  2.430771 -0.252092\n",
       "B  0.109610  1.582481 -0.909232 -0.591637\n",
       "C  0.187603 -0.329870 -1.192765 -0.204877\n",
       "D -0.358829  0.603472 -1.664789 -0.700179\n",
       "E  1.151391  1.857331 -1.511180  0.644848"
      ]
     },
     "execution_count": 312,
     "metadata": {},
     "output_type": "execute_result"
    }
   ],
   "source": [
    "# 데이터 프레임의 컬럼 불러오기 연습\n",
    "df[['W']+['X']+['Y']+['Z']]"
   ]
  },
  {
   "cell_type": "code",
   "execution_count": 313,
   "id": "c79c2679",
   "metadata": {},
   "outputs": [
    {
     "data": {
      "text/html": [
       "<div>\n",
       "<style scoped>\n",
       "    .dataframe tbody tr th:only-of-type {\n",
       "        vertical-align: middle;\n",
       "    }\n",
       "\n",
       "    .dataframe tbody tr th {\n",
       "        vertical-align: top;\n",
       "    }\n",
       "\n",
       "    .dataframe thead th {\n",
       "        text-align: right;\n",
       "    }\n",
       "</style>\n",
       "<table border=\"1\" class=\"dataframe\">\n",
       "  <thead>\n",
       "    <tr style=\"text-align: right;\">\n",
       "      <th></th>\n",
       "      <th>W</th>\n",
       "      <th>X</th>\n",
       "      <th>Y</th>\n",
       "      <th>Z</th>\n",
       "      <th>new</th>\n",
       "    </tr>\n",
       "  </thead>\n",
       "  <tbody>\n",
       "    <tr>\n",
       "      <th>A</th>\n",
       "      <td>0.441227</td>\n",
       "      <td>-0.330870</td>\n",
       "      <td>2.430771</td>\n",
       "      <td>-0.252092</td>\n",
       "      <td>2.871999</td>\n",
       "    </tr>\n",
       "    <tr>\n",
       "      <th>B</th>\n",
       "      <td>0.109610</td>\n",
       "      <td>1.582481</td>\n",
       "      <td>-0.909232</td>\n",
       "      <td>-0.591637</td>\n",
       "      <td>-0.799623</td>\n",
       "    </tr>\n",
       "    <tr>\n",
       "      <th>C</th>\n",
       "      <td>0.187603</td>\n",
       "      <td>-0.329870</td>\n",
       "      <td>-1.192765</td>\n",
       "      <td>-0.204877</td>\n",
       "      <td>-1.005161</td>\n",
       "    </tr>\n",
       "    <tr>\n",
       "      <th>D</th>\n",
       "      <td>-0.358829</td>\n",
       "      <td>0.603472</td>\n",
       "      <td>-1.664789</td>\n",
       "      <td>-0.700179</td>\n",
       "      <td>-2.023617</td>\n",
       "    </tr>\n",
       "    <tr>\n",
       "      <th>E</th>\n",
       "      <td>1.151391</td>\n",
       "      <td>1.857331</td>\n",
       "      <td>-1.511180</td>\n",
       "      <td>0.644848</td>\n",
       "      <td>-0.359789</td>\n",
       "    </tr>\n",
       "  </tbody>\n",
       "</table>\n",
       "</div>"
      ],
      "text/plain": [
       "          W         X         Y         Z       new\n",
       "A  0.441227 -0.330870  2.430771 -0.252092  2.871999\n",
       "B  0.109610  1.582481 -0.909232 -0.591637 -0.799623\n",
       "C  0.187603 -0.329870 -1.192765 -0.204877 -1.005161\n",
       "D -0.358829  0.603472 -1.664789 -0.700179 -2.023617\n",
       "E  1.151391  1.857331 -1.511180  0.644848 -0.359789"
      ]
     },
     "execution_count": 313,
     "metadata": {},
     "output_type": "execute_result"
    }
   ],
   "source": [
    "df['new']=df['W']+df['Y']\n",
    "df"
   ]
  },
  {
   "cell_type": "markdown",
   "id": "58780375",
   "metadata": {},
   "source": [
    "# Pandas의 dataframe을 통해 column 삭제"
   ]
  },
  {
   "cell_type": "code",
   "execution_count": 314,
   "id": "55528126",
   "metadata": {},
   "outputs": [
    {
     "data": {
      "text/html": [
       "<div>\n",
       "<style scoped>\n",
       "    .dataframe tbody tr th:only-of-type {\n",
       "        vertical-align: middle;\n",
       "    }\n",
       "\n",
       "    .dataframe tbody tr th {\n",
       "        vertical-align: top;\n",
       "    }\n",
       "\n",
       "    .dataframe thead th {\n",
       "        text-align: right;\n",
       "    }\n",
       "</style>\n",
       "<table border=\"1\" class=\"dataframe\">\n",
       "  <thead>\n",
       "    <tr style=\"text-align: right;\">\n",
       "      <th></th>\n",
       "      <th>W</th>\n",
       "      <th>X</th>\n",
       "      <th>Y</th>\n",
       "      <th>Z</th>\n",
       "    </tr>\n",
       "  </thead>\n",
       "  <tbody>\n",
       "    <tr>\n",
       "      <th>A</th>\n",
       "      <td>0.441227</td>\n",
       "      <td>-0.330870</td>\n",
       "      <td>2.430771</td>\n",
       "      <td>-0.252092</td>\n",
       "    </tr>\n",
       "    <tr>\n",
       "      <th>B</th>\n",
       "      <td>0.109610</td>\n",
       "      <td>1.582481</td>\n",
       "      <td>-0.909232</td>\n",
       "      <td>-0.591637</td>\n",
       "    </tr>\n",
       "    <tr>\n",
       "      <th>C</th>\n",
       "      <td>0.187603</td>\n",
       "      <td>-0.329870</td>\n",
       "      <td>-1.192765</td>\n",
       "      <td>-0.204877</td>\n",
       "    </tr>\n",
       "    <tr>\n",
       "      <th>D</th>\n",
       "      <td>-0.358829</td>\n",
       "      <td>0.603472</td>\n",
       "      <td>-1.664789</td>\n",
       "      <td>-0.700179</td>\n",
       "    </tr>\n",
       "    <tr>\n",
       "      <th>E</th>\n",
       "      <td>1.151391</td>\n",
       "      <td>1.857331</td>\n",
       "      <td>-1.511180</td>\n",
       "      <td>0.644848</td>\n",
       "    </tr>\n",
       "  </tbody>\n",
       "</table>\n",
       "</div>"
      ],
      "text/plain": [
       "          W         X         Y         Z\n",
       "A  0.441227 -0.330870  2.430771 -0.252092\n",
       "B  0.109610  1.582481 -0.909232 -0.591637\n",
       "C  0.187603 -0.329870 -1.192765 -0.204877\n",
       "D -0.358829  0.603472 -1.664789 -0.700179\n",
       "E  1.151391  1.857331 -1.511180  0.644848"
      ]
     },
     "execution_count": 314,
     "metadata": {},
     "output_type": "execute_result"
    }
   ],
   "source": [
    "df.drop('new',axis=1)"
   ]
  },
  {
   "cell_type": "code",
   "execution_count": 315,
   "id": "16d77304",
   "metadata": {},
   "outputs": [
    {
     "data": {
      "text/html": [
       "<div>\n",
       "<style scoped>\n",
       "    .dataframe tbody tr th:only-of-type {\n",
       "        vertical-align: middle;\n",
       "    }\n",
       "\n",
       "    .dataframe tbody tr th {\n",
       "        vertical-align: top;\n",
       "    }\n",
       "\n",
       "    .dataframe thead th {\n",
       "        text-align: right;\n",
       "    }\n",
       "</style>\n",
       "<table border=\"1\" class=\"dataframe\">\n",
       "  <thead>\n",
       "    <tr style=\"text-align: right;\">\n",
       "      <th></th>\n",
       "      <th>W</th>\n",
       "      <th>X</th>\n",
       "      <th>Y</th>\n",
       "      <th>Z</th>\n",
       "    </tr>\n",
       "  </thead>\n",
       "  <tbody>\n",
       "    <tr>\n",
       "      <th>A</th>\n",
       "      <td>0.441227</td>\n",
       "      <td>-0.330870</td>\n",
       "      <td>2.430771</td>\n",
       "      <td>-0.252092</td>\n",
       "    </tr>\n",
       "    <tr>\n",
       "      <th>B</th>\n",
       "      <td>0.109610</td>\n",
       "      <td>1.582481</td>\n",
       "      <td>-0.909232</td>\n",
       "      <td>-0.591637</td>\n",
       "    </tr>\n",
       "    <tr>\n",
       "      <th>C</th>\n",
       "      <td>0.187603</td>\n",
       "      <td>-0.329870</td>\n",
       "      <td>-1.192765</td>\n",
       "      <td>-0.204877</td>\n",
       "    </tr>\n",
       "    <tr>\n",
       "      <th>D</th>\n",
       "      <td>-0.358829</td>\n",
       "      <td>0.603472</td>\n",
       "      <td>-1.664789</td>\n",
       "      <td>-0.700179</td>\n",
       "    </tr>\n",
       "    <tr>\n",
       "      <th>E</th>\n",
       "      <td>1.151391</td>\n",
       "      <td>1.857331</td>\n",
       "      <td>-1.511180</td>\n",
       "      <td>0.644848</td>\n",
       "    </tr>\n",
       "  </tbody>\n",
       "</table>\n",
       "</div>"
      ],
      "text/plain": [
       "          W         X         Y         Z\n",
       "A  0.441227 -0.330870  2.430771 -0.252092\n",
       "B  0.109610  1.582481 -0.909232 -0.591637\n",
       "C  0.187603 -0.329870 -1.192765 -0.204877\n",
       "D -0.358829  0.603472 -1.664789 -0.700179\n",
       "E  1.151391  1.857331 -1.511180  0.644848"
      ]
     },
     "execution_count": 315,
     "metadata": {},
     "output_type": "execute_result"
    }
   ],
   "source": [
    "df.drop('new',axis=1, inplace=True)\n",
    "df"
   ]
  },
  {
   "cell_type": "code",
   "execution_count": 316,
   "id": "0ccd3be7",
   "metadata": {},
   "outputs": [
    {
     "data": {
      "text/html": [
       "<div>\n",
       "<style scoped>\n",
       "    .dataframe tbody tr th:only-of-type {\n",
       "        vertical-align: middle;\n",
       "    }\n",
       "\n",
       "    .dataframe tbody tr th {\n",
       "        vertical-align: top;\n",
       "    }\n",
       "\n",
       "    .dataframe thead th {\n",
       "        text-align: right;\n",
       "    }\n",
       "</style>\n",
       "<table border=\"1\" class=\"dataframe\">\n",
       "  <thead>\n",
       "    <tr style=\"text-align: right;\">\n",
       "      <th></th>\n",
       "      <th>W</th>\n",
       "      <th>X</th>\n",
       "      <th>Y</th>\n",
       "      <th>Z</th>\n",
       "    </tr>\n",
       "  </thead>\n",
       "  <tbody>\n",
       "    <tr>\n",
       "      <th>A</th>\n",
       "      <td>0.441227</td>\n",
       "      <td>-0.330870</td>\n",
       "      <td>2.430771</td>\n",
       "      <td>-0.252092</td>\n",
       "    </tr>\n",
       "    <tr>\n",
       "      <th>B</th>\n",
       "      <td>0.109610</td>\n",
       "      <td>1.582481</td>\n",
       "      <td>-0.909232</td>\n",
       "      <td>-0.591637</td>\n",
       "    </tr>\n",
       "    <tr>\n",
       "      <th>C</th>\n",
       "      <td>0.187603</td>\n",
       "      <td>-0.329870</td>\n",
       "      <td>-1.192765</td>\n",
       "      <td>-0.204877</td>\n",
       "    </tr>\n",
       "    <tr>\n",
       "      <th>D</th>\n",
       "      <td>-0.358829</td>\n",
       "      <td>0.603472</td>\n",
       "      <td>-1.664789</td>\n",
       "      <td>-0.700179</td>\n",
       "    </tr>\n",
       "  </tbody>\n",
       "</table>\n",
       "</div>"
      ],
      "text/plain": [
       "          W         X         Y         Z\n",
       "A  0.441227 -0.330870  2.430771 -0.252092\n",
       "B  0.109610  1.582481 -0.909232 -0.591637\n",
       "C  0.187603 -0.329870 -1.192765 -0.204877\n",
       "D -0.358829  0.603472 -1.664789 -0.700179"
      ]
     },
     "execution_count": 316,
     "metadata": {},
     "output_type": "execute_result"
    }
   ],
   "source": [
    "df.drop('E', axis=0)"
   ]
  },
  {
   "cell_type": "code",
   "execution_count": 317,
   "id": "159abaae",
   "metadata": {},
   "outputs": [
    {
     "data": {
      "text/plain": [
       "(5, 4)"
      ]
     },
     "execution_count": 317,
     "metadata": {},
     "output_type": "execute_result"
    }
   ],
   "source": [
    "df.shape"
   ]
  },
  {
   "cell_type": "markdown",
   "id": "c385234d",
   "metadata": {},
   "source": [
    "- Tuple 형태\n",
    "- 앞에 5는 row 수, 해당 인덱스는 0\n",
    "- Axis는 축이라는 뜻\n"
   ]
  },
  {
   "cell_type": "code",
   "execution_count": 318,
   "id": "08ff3ad3",
   "metadata": {},
   "outputs": [
    {
     "data": {
      "text/html": [
       "<div>\n",
       "<style scoped>\n",
       "    .dataframe tbody tr th:only-of-type {\n",
       "        vertical-align: middle;\n",
       "    }\n",
       "\n",
       "    .dataframe tbody tr th {\n",
       "        vertical-align: top;\n",
       "    }\n",
       "\n",
       "    .dataframe thead th {\n",
       "        text-align: right;\n",
       "    }\n",
       "</style>\n",
       "<table border=\"1\" class=\"dataframe\">\n",
       "  <thead>\n",
       "    <tr style=\"text-align: right;\">\n",
       "      <th></th>\n",
       "      <th>W</th>\n",
       "      <th>X</th>\n",
       "      <th>Y</th>\n",
       "      <th>Z</th>\n",
       "    </tr>\n",
       "  </thead>\n",
       "  <tbody>\n",
       "    <tr>\n",
       "      <th>A</th>\n",
       "      <td>0.441227</td>\n",
       "      <td>-0.33087</td>\n",
       "      <td>2.430771</td>\n",
       "      <td>-0.252092</td>\n",
       "    </tr>\n",
       "  </tbody>\n",
       "</table>\n",
       "</div>"
      ],
      "text/plain": [
       "          W        X         Y         Z\n",
       "A  0.441227 -0.33087  2.430771 -0.252092"
      ]
     },
     "execution_count": 318,
     "metadata": {},
     "output_type": "execute_result"
    }
   ],
   "source": [
    "df.loc[['A']]"
   ]
  },
  {
   "cell_type": "code",
   "execution_count": 319,
   "id": "7200a8bb",
   "metadata": {},
   "outputs": [
    {
     "data": {
      "text/plain": [
       "W    0.187603\n",
       "X   -0.329870\n",
       "Y   -1.192765\n",
       "Z   -0.204877\n",
       "Name: C, dtype: float64"
      ]
     },
     "execution_count": 319,
     "metadata": {},
     "output_type": "execute_result"
    }
   ],
   "source": [
    "df.iloc[2]"
   ]
  },
  {
   "cell_type": "code",
   "execution_count": 320,
   "id": "325bd077",
   "metadata": {},
   "outputs": [
    {
     "data": {
      "text/plain": [
       "-0.9092324048562419"
      ]
     },
     "execution_count": 320,
     "metadata": {},
     "output_type": "execute_result"
    }
   ],
   "source": [
    "df.loc['B'][2]"
   ]
  },
  {
   "cell_type": "markdown",
   "id": "d3b64a37",
   "metadata": {},
   "source": [
    "- Dataframe의 conditional selection(조건부 선택)"
   ]
  },
  {
   "cell_type": "code",
   "execution_count": 321,
   "id": "751f7ddc",
   "metadata": {},
   "outputs": [
    {
     "data": {
      "text/html": [
       "<div>\n",
       "<style scoped>\n",
       "    .dataframe tbody tr th:only-of-type {\n",
       "        vertical-align: middle;\n",
       "    }\n",
       "\n",
       "    .dataframe tbody tr th {\n",
       "        vertical-align: top;\n",
       "    }\n",
       "\n",
       "    .dataframe thead th {\n",
       "        text-align: right;\n",
       "    }\n",
       "</style>\n",
       "<table border=\"1\" class=\"dataframe\">\n",
       "  <thead>\n",
       "    <tr style=\"text-align: right;\">\n",
       "      <th></th>\n",
       "      <th>W</th>\n",
       "      <th>Y</th>\n",
       "    </tr>\n",
       "  </thead>\n",
       "  <tbody>\n",
       "    <tr>\n",
       "      <th>A</th>\n",
       "      <td>0.441227</td>\n",
       "      <td>2.430771</td>\n",
       "    </tr>\n",
       "    <tr>\n",
       "      <th>B</th>\n",
       "      <td>0.109610</td>\n",
       "      <td>-0.909232</td>\n",
       "    </tr>\n",
       "  </tbody>\n",
       "</table>\n",
       "</div>"
      ],
      "text/plain": [
       "          W         Y\n",
       "A  0.441227  2.430771\n",
       "B  0.109610 -0.909232"
      ]
     },
     "execution_count": 321,
     "metadata": {},
     "output_type": "execute_result"
    }
   ],
   "source": [
    "df.loc[['A','B'],['W','Y']]"
   ]
  },
  {
   "cell_type": "code",
   "execution_count": 420,
   "id": "00dde683",
   "metadata": {},
   "outputs": [
    {
     "data": {
      "text/html": [
       "<div>\n",
       "<style scoped>\n",
       "    .dataframe tbody tr th:only-of-type {\n",
       "        vertical-align: middle;\n",
       "    }\n",
       "\n",
       "    .dataframe tbody tr th {\n",
       "        vertical-align: top;\n",
       "    }\n",
       "\n",
       "    .dataframe thead th {\n",
       "        text-align: right;\n",
       "    }\n",
       "</style>\n",
       "<table border=\"1\" class=\"dataframe\">\n",
       "  <thead>\n",
       "    <tr style=\"text-align: right;\">\n",
       "      <th></th>\n",
       "      <th>W</th>\n",
       "      <th>X</th>\n",
       "      <th>Y</th>\n",
       "      <th>Z</th>\n",
       "    </tr>\n",
       "  </thead>\n",
       "  <tbody>\n",
       "    <tr>\n",
       "      <th>A</th>\n",
       "      <td>0.441227</td>\n",
       "      <td>-0.33087</td>\n",
       "      <td>2.430771</td>\n",
       "      <td>-0.252092</td>\n",
       "    </tr>\n",
       "  </tbody>\n",
       "</table>\n",
       "</div>"
      ],
      "text/plain": [
       "          W        X         Y         Z\n",
       "A  0.441227 -0.33087  2.430771 -0.252092"
      ]
     },
     "execution_count": 420,
     "metadata": {},
     "output_type": "execute_result"
    }
   ],
   "source": [
    "df[(df['W']>0)&(df['Y']>1)]"
   ]
  },
  {
   "cell_type": "code",
   "execution_count": null,
   "id": "25df17a9",
   "metadata": {},
   "outputs": [],
   "source": []
  }
 ],
 "metadata": {
  "kernelspec": {
   "display_name": "Python 3 (ipykernel)",
   "language": "python",
   "name": "python3"
  },
  "language_info": {
   "codemirror_mode": {
    "name": "ipython",
    "version": 3
   },
   "file_extension": ".py",
   "mimetype": "text/x-python",
   "name": "python",
   "nbconvert_exporter": "python",
   "pygments_lexer": "ipython3",
   "version": "3.9.13"
  }
 },
 "nbformat": 4,
 "nbformat_minor": 5
}
