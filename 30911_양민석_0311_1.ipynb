{
 "cells": [
  {
   "cell_type": "markdown",
   "id": "80f1ea6c",
   "metadata": {},
   "source": [
    "### 30911_양민석_0311_11"
   ]
  },
  {
   "cell_type": "markdown",
   "id": "b2a2a901",
   "metadata": {},
   "source": [
    "### 2.2 실행 결과를 보여주는 출력 명령어\n",
    "#### 2.2.2 출력 명령어 print()"
   ]
  },
  {
   "cell_type": "code",
   "execution_count": 3,
   "id": "47c4257b",
   "metadata": {},
   "outputs": [
    {
     "name": "stdout",
     "output_type": "stream",
     "text": [
      "123\n"
     ]
    }
   ],
   "source": [
    "print(\"123\")"
   ]
  },
  {
   "cell_type": "code",
   "execution_count": 4,
   "id": "acbe758c",
   "metadata": {},
   "outputs": [
    {
     "data": {
      "text/plain": [
       "str"
      ]
     },
     "execution_count": 4,
     "metadata": {},
     "output_type": "execute_result"
    }
   ],
   "source": [
    "type(\"123\")"
   ]
  },
  {
   "cell_type": "code",
   "execution_count": 8,
   "id": "ba9a0e61",
   "metadata": {},
   "outputs": [
    {
     "name": "stdout",
     "output_type": "stream",
     "text": [
      "1111111110\n"
     ]
    }
   ],
   "source": [
    "print(123456789+987654321)"
   ]
  },
  {
   "cell_type": "code",
   "execution_count": 17,
   "id": "967dc0a7",
   "metadata": {},
   "outputs": [
    {
     "name": "stdout",
     "output_type": "stream",
     "text": [
      "123456789987654321\n"
     ]
    }
   ],
   "source": [
    "print(\"123456789\"+str(987654321))"
   ]
  },
  {
   "cell_type": "markdown",
   "id": "b98604f2",
   "metadata": {},
   "source": [
    "#### 2.2.3 사칙연산 출력하기\n",
    "```\n",
    "더하기 빼기 나누기 곱하기\n",
    "123 , 456\n",
    "```"
   ]
  },
  {
   "cell_type": "code",
   "execution_count": 20,
   "id": "e54389a1",
   "metadata": {},
   "outputs": [
    {
     "name": "stdout",
     "output_type": "stream",
     "text": [
      "579\n",
      "-333\n",
      "0.26973684210526316\n",
      "56088\n"
     ]
    }
   ],
   "source": [
    "print(123+456)\n",
    "print(123-456)\n",
    "print(123/456)\n",
    "print(123*456)"
   ]
  },
  {
   "cell_type": "markdown",
   "id": "ca0e6284",
   "metadata": {},
   "source": [
    "### // 나눈 나머지값\n",
    "### % 나눈 몫\n",
    "### ** 제곱수"
   ]
  },
  {
   "cell_type": "code",
   "execution_count": 27,
   "id": "150babcd",
   "metadata": {},
   "outputs": [
    {
     "name": "stdout",
     "output_type": "stream",
     "text": [
      "13\n",
      "4\n",
      "11664\n"
     ]
    }
   ],
   "source": [
    "print(108 // 8) # 나눈 몫\n",
    "print(108 % 8) # 나눈 나머지\n",
    "print(108 ** 2) # 제곱수"
   ]
  },
  {
   "cell_type": "code",
   "execution_count": null,
   "id": "79d43d45",
   "metadata": {},
   "outputs": [],
   "source": []
  }
 ],
 "metadata": {
  "kernelspec": {
   "display_name": "Python 3 (ipykernel)",
   "language": "python",
   "name": "python3"
  },
  "language_info": {
   "codemirror_mode": {
    "name": "ipython",
    "version": 3
   },
   "file_extension": ".py",
   "mimetype": "text/x-python",
   "name": "python",
   "nbconvert_exporter": "python",
   "pygments_lexer": "ipython3",
   "version": "3.9.7"
  }
 },
 "nbformat": 4,
 "nbformat_minor": 5
}
