{
 "cells": [
  {
   "cell_type": "code",
   "execution_count": 48,
   "id": "a9392957",
   "metadata": {},
   "outputs": [],
   "source": [
    "import pandas as pd"
   ]
  },
  {
   "cell_type": "code",
   "execution_count": 49,
   "id": "5569c939",
   "metadata": {},
   "outputs": [],
   "source": [
    "carstocks=pd.read_csv(\"data/car_stocks.csv\")"
   ]
  },
  {
   "cell_type": "code",
   "execution_count": 50,
   "id": "5abaab72",
   "metadata": {
    "scrolled": true
   },
   "outputs": [
    {
     "data": {
      "text/html": [
       "<div>\n",
       "<style scoped>\n",
       "    .dataframe tbody tr th:only-of-type {\n",
       "        vertical-align: middle;\n",
       "    }\n",
       "\n",
       "    .dataframe tbody tr th {\n",
       "        vertical-align: top;\n",
       "    }\n",
       "\n",
       "    .dataframe thead th {\n",
       "        text-align: right;\n",
       "    }\n",
       "</style>\n",
       "<table border=\"1\" class=\"dataframe\">\n",
       "  <thead>\n",
       "    <tr style=\"text-align: right;\">\n",
       "      <th></th>\n",
       "      <th>Symbol</th>\n",
       "      <th>Date</th>\n",
       "      <th>Open</th>\n",
       "      <th>High</th>\n",
       "      <th>Low</th>\n",
       "      <th>Close</th>\n",
       "      <th>Adj Close</th>\n",
       "      <th>Volume</th>\n",
       "    </tr>\n",
       "  </thead>\n",
       "  <tbody>\n",
       "    <tr>\n",
       "      <th>0</th>\n",
       "      <td>RIVN</td>\n",
       "      <td>2021-11-10</td>\n",
       "      <td>106.750000</td>\n",
       "      <td>119.459999</td>\n",
       "      <td>95.199997</td>\n",
       "      <td>100.730003</td>\n",
       "      <td>100.730003</td>\n",
       "      <td>103679500</td>\n",
       "    </tr>\n",
       "    <tr>\n",
       "      <th>1</th>\n",
       "      <td>RIVN</td>\n",
       "      <td>2021-11-11</td>\n",
       "      <td>114.625000</td>\n",
       "      <td>125.000000</td>\n",
       "      <td>108.010002</td>\n",
       "      <td>122.989998</td>\n",
       "      <td>122.989998</td>\n",
       "      <td>83668200</td>\n",
       "    </tr>\n",
       "    <tr>\n",
       "      <th>2</th>\n",
       "      <td>RIVN</td>\n",
       "      <td>2021-11-12</td>\n",
       "      <td>128.645004</td>\n",
       "      <td>135.199997</td>\n",
       "      <td>125.250000</td>\n",
       "      <td>129.949997</td>\n",
       "      <td>129.949997</td>\n",
       "      <td>50437500</td>\n",
       "    </tr>\n",
       "    <tr>\n",
       "      <th>3</th>\n",
       "      <td>RIVN</td>\n",
       "      <td>2021-11-15</td>\n",
       "      <td>130.800003</td>\n",
       "      <td>152.529999</td>\n",
       "      <td>127.510002</td>\n",
       "      <td>149.360001</td>\n",
       "      <td>149.360001</td>\n",
       "      <td>64982300</td>\n",
       "    </tr>\n",
       "    <tr>\n",
       "      <th>4</th>\n",
       "      <td>RIVN</td>\n",
       "      <td>2021-11-16</td>\n",
       "      <td>163.800003</td>\n",
       "      <td>179.470001</td>\n",
       "      <td>153.779999</td>\n",
       "      <td>172.009995</td>\n",
       "      <td>172.009995</td>\n",
       "      <td>94036600</td>\n",
       "    </tr>\n",
       "  </tbody>\n",
       "</table>\n",
       "</div>"
      ],
      "text/plain": [
       "  Symbol        Date        Open        High         Low       Close  \\\n",
       "0   RIVN  2021-11-10  106.750000  119.459999   95.199997  100.730003   \n",
       "1   RIVN  2021-11-11  114.625000  125.000000  108.010002  122.989998   \n",
       "2   RIVN  2021-11-12  128.645004  135.199997  125.250000  129.949997   \n",
       "3   RIVN  2021-11-15  130.800003  152.529999  127.510002  149.360001   \n",
       "4   RIVN  2021-11-16  163.800003  179.470001  153.779999  172.009995   \n",
       "\n",
       "    Adj Close     Volume  \n",
       "0  100.730003  103679500  \n",
       "1  122.989998   83668200  \n",
       "2  129.949997   50437500  \n",
       "3  149.360001   64982300  \n",
       "4  172.009995   94036600  "
      ]
     },
     "execution_count": 50,
     "metadata": {},
     "output_type": "execute_result"
    }
   ],
   "source": [
    "carstocks.head()"
   ]
  },
  {
   "cell_type": "code",
   "execution_count": 51,
   "id": "bc80eaa2",
   "metadata": {},
   "outputs": [
    {
     "data": {
      "text/plain": [
       "49.82923061538462"
      ]
     },
     "execution_count": 51,
     "metadata": {},
     "output_type": "execute_result"
    }
   ],
   "source": [
    "carstocks[carstocks[\"Symbol\"]==\"LCID\"][\"Close\"].mean()"
   ]
  },
  {
   "cell_type": "code",
   "execution_count": 52,
   "id": "76adbcf2",
   "metadata": {},
   "outputs": [
    {
     "data": {
      "text/plain": [
       "Symbol\n",
       "GM       62.164615\n",
       "LCID     49.829231\n",
       "RIVN    127.523077\n",
       "Name: Close, dtype: float64"
      ]
     },
     "execution_count": 52,
     "metadata": {},
     "output_type": "execute_result"
    }
   ],
   "source": [
    "carstocks.groupby(\"Symbol\")[\"Close\"].mean()"
   ]
  },
  {
   "cell_type": "code",
   "execution_count": 53,
   "id": "f4f885ad",
   "metadata": {},
   "outputs": [],
   "source": [
    "titanic=pd.read_csv(\"data/titanic.csv\")"
   ]
  },
  {
   "cell_type": "code",
   "execution_count": 54,
   "id": "7a3f361f",
   "metadata": {},
   "outputs": [
    {
     "data": {
      "text/html": [
       "<div>\n",
       "<style scoped>\n",
       "    .dataframe tbody tr th:only-of-type {\n",
       "        vertical-align: middle;\n",
       "    }\n",
       "\n",
       "    .dataframe tbody tr th {\n",
       "        vertical-align: top;\n",
       "    }\n",
       "\n",
       "    .dataframe thead th {\n",
       "        text-align: right;\n",
       "    }\n",
       "</style>\n",
       "<table border=\"1\" class=\"dataframe\">\n",
       "  <thead>\n",
       "    <tr style=\"text-align: right;\">\n",
       "      <th></th>\n",
       "      <th>pclass</th>\n",
       "      <th>survived</th>\n",
       "      <th>name</th>\n",
       "      <th>sex</th>\n",
       "      <th>age</th>\n",
       "      <th>sibsp</th>\n",
       "      <th>parch</th>\n",
       "      <th>ticket</th>\n",
       "      <th>fare</th>\n",
       "      <th>cabin</th>\n",
       "      <th>embarked</th>\n",
       "      <th>boat</th>\n",
       "      <th>body</th>\n",
       "      <th>home.dest</th>\n",
       "    </tr>\n",
       "  </thead>\n",
       "  <tbody>\n",
       "    <tr>\n",
       "      <th>0</th>\n",
       "      <td>1</td>\n",
       "      <td>1</td>\n",
       "      <td>Allen, Miss. Elisabeth Walton</td>\n",
       "      <td>female</td>\n",
       "      <td>29</td>\n",
       "      <td>0</td>\n",
       "      <td>0</td>\n",
       "      <td>24160</td>\n",
       "      <td>211.3375</td>\n",
       "      <td>B5</td>\n",
       "      <td>S</td>\n",
       "      <td>2</td>\n",
       "      <td>?</td>\n",
       "      <td>St Louis, MO</td>\n",
       "    </tr>\n",
       "  </tbody>\n",
       "</table>\n",
       "</div>"
      ],
      "text/plain": [
       "   pclass  survived                           name     sex age  sibsp  parch  \\\n",
       "0       1         1  Allen, Miss. Elisabeth Walton  female  29      0      0   \n",
       "\n",
       "  ticket      fare cabin embarked boat body     home.dest  \n",
       "0  24160  211.3375    B5        S    2    ?  St Louis, MO  "
      ]
     },
     "execution_count": 54,
     "metadata": {},
     "output_type": "execute_result"
    }
   ],
   "source": [
    "titanic.head(1)"
   ]
  },
  {
   "cell_type": "code",
   "execution_count": 55,
   "id": "f056f2ac",
   "metadata": {},
   "outputs": [
    {
     "data": {
      "text/html": [
       "<div>\n",
       "<style scoped>\n",
       "    .dataframe tbody tr th:only-of-type {\n",
       "        vertical-align: middle;\n",
       "    }\n",
       "\n",
       "    .dataframe tbody tr th {\n",
       "        vertical-align: top;\n",
       "    }\n",
       "\n",
       "    .dataframe thead th {\n",
       "        text-align: right;\n",
       "    }\n",
       "</style>\n",
       "<table border=\"1\" class=\"dataframe\">\n",
       "  <thead>\n",
       "    <tr style=\"text-align: right;\">\n",
       "      <th></th>\n",
       "      <th>pclass</th>\n",
       "      <th>survived</th>\n",
       "      <th>sex</th>\n",
       "      <th>age</th>\n",
       "    </tr>\n",
       "  </thead>\n",
       "  <tbody>\n",
       "    <tr>\n",
       "      <th>0</th>\n",
       "      <td>1</td>\n",
       "      <td>1</td>\n",
       "      <td>female</td>\n",
       "      <td>29.0000</td>\n",
       "    </tr>\n",
       "    <tr>\n",
       "      <th>1</th>\n",
       "      <td>1</td>\n",
       "      <td>1</td>\n",
       "      <td>male</td>\n",
       "      <td>0.9167</td>\n",
       "    </tr>\n",
       "    <tr>\n",
       "      <th>2</th>\n",
       "      <td>1</td>\n",
       "      <td>0</td>\n",
       "      <td>female</td>\n",
       "      <td>2.0000</td>\n",
       "    </tr>\n",
       "    <tr>\n",
       "      <th>3</th>\n",
       "      <td>1</td>\n",
       "      <td>0</td>\n",
       "      <td>male</td>\n",
       "      <td>30.0000</td>\n",
       "    </tr>\n",
       "    <tr>\n",
       "      <th>4</th>\n",
       "      <td>1</td>\n",
       "      <td>0</td>\n",
       "      <td>female</td>\n",
       "      <td>25.0000</td>\n",
       "    </tr>\n",
       "  </tbody>\n",
       "</table>\n",
       "</div>"
      ],
      "text/plain": [
       "   pclass  survived     sex      age\n",
       "0       1         1  female  29.0000\n",
       "1       1         1    male   0.9167\n",
       "2       1         0  female   2.0000\n",
       "3       1         0    male  30.0000\n",
       "4       1         0  female  25.0000"
      ]
     },
     "execution_count": 55,
     "metadata": {},
     "output_type": "execute_result"
    }
   ],
   "source": [
    "df=Titanic[[\"pclass\",\"survived\",\"sex\",\"age\"]]\n",
    "df.head()"
   ]
  },
  {
   "cell_type": "code",
   "execution_count": 56,
   "id": "bc5a91c3",
   "metadata": {},
   "outputs": [
    {
     "data": {
      "text/plain": [
       "sex\n",
       "female    0.727468\n",
       "male      0.190985\n",
       "Name: survived, dtype: float64"
      ]
     },
     "execution_count": 56,
     "metadata": {},
     "output_type": "execute_result"
    }
   ],
   "source": [
    "titanic.groupby(\"sex\")[\"survived\"].mean()"
   ]
  },
  {
   "cell_type": "code",
   "execution_count": 57,
   "id": "a2a72e1f",
   "metadata": {},
   "outputs": [],
   "source": [
    "titanic[\"age\"]=titanic[\"age\"].replace([\"?\"],[None]).astype(\"float\")"
   ]
  },
  {
   "cell_type": "code",
   "execution_count": 58,
   "id": "d9db06a0",
   "metadata": {
    "scrolled": true
   },
   "outputs": [
    {
     "data": {
      "text/plain": [
       "sex     pclass  survived\n",
       "female  1       0           35.200000\n",
       "                1           37.109375\n",
       "        2       0           34.090909\n",
       "                1           26.711051\n",
       "        3       0           23.418750\n",
       "                1           20.814815\n",
       "male    1       0           43.658163\n",
       "                1           36.168240\n",
       "        2       0           33.092593\n",
       "                1           17.449274\n",
       "        3       0           26.679598\n",
       "                1           22.436441\n",
       "Name: age, dtype: float64"
      ]
     },
     "execution_count": 58,
     "metadata": {},
     "output_type": "execute_result"
    }
   ],
   "source": [
    "titanic.groupby([\"sex\",\"pclass\",\"survived\"])[\"age\"].mean()"
   ]
  },
  {
   "cell_type": "code",
   "execution_count": 59,
   "id": "daa11ba9",
   "metadata": {},
   "outputs": [
    {
     "data": {
      "text/plain": [
       "pclass\n",
       "1     39\n",
       "2     16\n",
       "3    208\n",
       "Name: age, dtype: int64"
      ]
     },
     "execution_count": 59,
     "metadata": {},
     "output_type": "execute_result"
    }
   ],
   "source": [
    "titanic.groupby('pclass')['age'].size()-titanic.groupby('pclass')['age'].count()"
   ]
  },
  {
   "cell_type": "code",
   "execution_count": 66,
   "id": "960e99a0",
   "metadata": {},
   "outputs": [
    {
     "data": {
      "text/plain": [
       "pclass\n",
       "1     39\n",
       "2     16\n",
       "3    208\n",
       "Name: age, dtype: int64"
      ]
     },
     "execution_count": 66,
     "metadata": {},
     "output_type": "execute_result"
    }
   ],
   "source": [
    "def fff(j):\n",
    "    return j.size-j.count()\n",
    "titanic.groupby('pclass')['age'].agg(fff)"
   ]
  },
  {
   "cell_type": "code",
   "execution_count": null,
   "id": "58bd11d1",
   "metadata": {},
   "outputs": [],
   "source": []
  }
 ],
 "metadata": {
  "kernelspec": {
   "display_name": "Python 3 (ipykernel)",
   "language": "python",
   "name": "python3"
  },
  "language_info": {
   "codemirror_mode": {
    "name": "ipython",
    "version": 3
   },
   "file_extension": ".py",
   "mimetype": "text/x-python",
   "name": "python",
   "nbconvert_exporter": "python",
   "pygments_lexer": "ipython3",
   "version": "3.10.9"
  }
 },
 "nbformat": 4,
 "nbformat_minor": 5
}
