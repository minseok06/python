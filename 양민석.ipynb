{
 "cells": [
  {
   "cell_type": "markdown",
   "id": "f1fa7956",
   "metadata": {},
   "source": [
    "1번 \n",
    "\n",
    "s = 'Hi there Sam!' 을 활용하여 아래와 같이 출력되도록 하세요."
   ]
  },
  {
   "cell_type": "code",
   "execution_count": 30,
   "id": "4cb4a75d",
   "metadata": {},
   "outputs": [
    {
     "data": {
      "text/plain": [
       "['Hi', 'there', 'Sam!']"
      ]
     },
     "execution_count": 30,
     "metadata": {},
     "output_type": "execute_result"
    }
   ],
   "source": [
    "s = 'Hi there Sam!'\n",
    "s.split()"
   ]
  },
  {
   "cell_type": "markdown",
   "id": "294e9964",
   "metadata": {},
   "source": [
    "2번 \n",
    "\n",
    "planet = \"Earth\"\n",
    "\n",
    "diameter = 12742\n",
    "\n",
    "위 변수들을 활용하여 아래와 같이 출력되도록 하세요. \n"
   ]
  },
  {
   "cell_type": "code",
   "execution_count": 47,
   "id": "0984dee1",
   "metadata": {},
   "outputs": [
    {
     "name": "stdout",
     "output_type": "stream",
     "text": [
      "The diameter of Earth is 12742 kilometers.\n"
     ]
    }
   ],
   "source": [
    "planet = \"Earth\"\n",
    "diameter = 12742\n",
    "\n",
    "print('The diameter of {num1} is {num2} kilometers.'.format(num1=planet,num2=diameter))"
   ]
  },
  {
   "cell_type": "markdown",
   "id": "d06440fa",
   "metadata": {},
   "source": [
    "3번 \n",
    "\n",
    "lst = [1,2,[3,4],[5,[100,200,['hello']],23,11],1,7] 을 활용하여 \n",
    "\n",
    "아래와 같이 출력되도록 하세요\n"
   ]
  },
  {
   "cell_type": "code",
   "execution_count": 48,
   "id": "e7613278",
   "metadata": {},
   "outputs": [
    {
     "data": {
      "text/plain": [
       "'hello'"
      ]
     },
     "execution_count": 48,
     "metadata": {},
     "output_type": "execute_result"
    }
   ],
   "source": [
    "# index 3에 [5,[100,200,['hello']],23,11] 전체가 해당.\n",
    "\n",
    "lst = [1,2,[3,4],[5,[100,200,['hello']],23,11],1,7]\n",
    "lst[3][1][2][0]"
   ]
  },
  {
   "cell_type": "markdown",
   "id": "466478e5",
   "metadata": {},
   "source": [
    "4번 \n",
    "\n",
    "d = {'k1':[1,2,3,{'tricky':['oh','man','inception',{'target':[1,2,3,'hello']}]}]}\n",
    "\n",
    "위 변수를 활용하여 'hello' 가 출력되도록 하세요. \n"
   ]
  },
  {
   "cell_type": "code",
   "execution_count": 51,
   "id": "5556a510",
   "metadata": {},
   "outputs": [
    {
     "data": {
      "text/plain": [
       "'hello'"
      ]
     },
     "execution_count": 51,
     "metadata": {},
     "output_type": "execute_result"
    }
   ],
   "source": [
    "d = {'k1':[1,2,3,{'tricky':['oh','man','inception',{'target':[1,2,3,'hello']}]}]}\n",
    "\n",
    "d['k1'][3]['tricky'][3]['target'][3]\n",
    "\n",
    "# index 3은 {'tricky':['oh','man','inception',{'target':[1,2,3,'hello']}]} 딕셔너리.\n",
    "# 딕셔너리는 key 값 리스트는 숫자로 뽑는다."
   ]
  },
  {
   "cell_type": "markdown",
   "id": "3eda0efe",
   "metadata": {},
   "source": [
    "5번 \n",
    "\n",
    "domainGet이라는 함수를 만들어서 아래와 같이 되도록 하세요."
   ]
  },
  {
   "cell_type": "code",
   "execution_count": 57,
   "id": "154cd54a",
   "metadata": {},
   "outputs": [
    {
     "data": {
      "text/plain": [
       "'domain.com'"
      ]
     },
     "execution_count": 57,
     "metadata": {},
     "output_type": "execute_result"
    }
   ],
   "source": [
    "domainGet('user@domain.com')"
   ]
  },
  {
   "cell_type": "code",
   "execution_count": 58,
   "id": "ddc6f467",
   "metadata": {},
   "outputs": [],
   "source": [
    "def domainGet(email):\n",
    "    return email.split('@')[-1]"
   ]
  },
  {
   "cell_type": "markdown",
   "id": "425fc278",
   "metadata": {},
   "source": [
    "6번 \n",
    "\n",
    "findDog라는 함수를 만드세요. 이 함수는 파라미터에 ‘dog’라는 단어가 있을 경우 True를 \n",
    "\n",
    "반환하도록 하고, 없으면 False를 출력하는 것입니다. 아래와 같이 출력되도록 하세요. \n"
   ]
  },
  {
   "cell_type": "code",
   "execution_count": 35,
   "id": "ac32c691",
   "metadata": {},
   "outputs": [],
   "source": [
    "def findDog():\n",
    "\n",
    "    if '' in 'dog':\n",
    "        print('True')"
   ]
  },
  {
   "cell_type": "markdown",
   "id": "1318a199",
   "metadata": {},
   "source": [
    "7번, 8번 아예 못함ㅠ"
   ]
  },
  {
   "cell_type": "code",
   "execution_count": 36,
   "id": "fdff2e31",
   "metadata": {},
   "outputs": [],
   "source": [
    "def findDog():\n",
    "\n",
    "    if 'a' in 'findDog':\n",
    "        #True 반환\n",
    "        print('포함')\n",
    "    else:\n",
    "        #False 반환\n",
    "        print('미포함')"
   ]
  },
  {
   "cell_type": "markdown",
   "id": "4642d799",
   "metadata": {},
   "source": [
    "9번 (20점)\n",
    "\n",
    "caught_speeding이라는 함수를 만드세요. 속도를 파라미터로 입력하면 그에 따른 범칙금 내\n",
    "\n",
    "용이 출력되도록 만드세요. 시속 80키로가 넘으면 '범칙금 8만원', 시속 60키로가 넘으면 \n",
    "\n",
    "'범칙금 6만원', 60키로 이하인 경우에는 '범칙금 없음'이 출력되도록 하세요. \n",
    "\n",
    "caught_speeding이라는 함수를 사용하여 아래와 같은 결과가 나오도록 하세요. "
   ]
  },
  {
   "cell_type": "code",
   "execution_count": 37,
   "id": "58af6a1a",
   "metadata": {},
   "outputs": [],
   "source": [
    "def caught_speeding(g):\n",
    "    \n",
    "    if g >= 80:\n",
    "        print('범칙금 8만원')\n",
    "    elif(g >= 60):\n",
    "        print('범칙금 6만원')\n",
    "    elif(g < 60):\n",
    "        print('범칙금 없음')"
   ]
  },
  {
   "cell_type": "code",
   "execution_count": 38,
   "id": "f46353f4",
   "metadata": {},
   "outputs": [
    {
     "name": "stdout",
     "output_type": "stream",
     "text": [
      "범칙금 없음\n"
     ]
    }
   ],
   "source": [
    "caught_speeding(50)"
   ]
  },
  {
   "cell_type": "code",
   "execution_count": 39,
   "id": "2d959c84",
   "metadata": {},
   "outputs": [
    {
     "name": "stdout",
     "output_type": "stream",
     "text": [
      "범칙금 없음\n"
     ]
    }
   ],
   "source": [
    "caught_speeding(40)"
   ]
  }
 ],
 "metadata": {
  "kernelspec": {
   "display_name": "Python 3 (ipykernel)",
   "language": "python",
   "name": "python3"
  },
  "language_info": {
   "codemirror_mode": {
    "name": "ipython",
    "version": 3
   },
   "file_extension": ".py",
   "mimetype": "text/x-python",
   "name": "python",
   "nbconvert_exporter": "python",
   "pygments_lexer": "ipython3",
   "version": "3.9.13"
  }
 },
 "nbformat": 4,
 "nbformat_minor": 5
}
