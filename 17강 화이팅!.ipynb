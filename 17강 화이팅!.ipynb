{
 "cells": [
  {
   "cell_type": "code",
   "execution_count": 1,
   "id": "61b6b391",
   "metadata": {
    "scrolled": true
   },
   "outputs": [],
   "source": [
    "import pandas as pd\n",
    "carstocks = pd.read_csv('data/car_stocks.csv')\n",
    "# csv파일 pandas로 불러오기"
   ]
  },
  {
   "cell_type": "code",
   "execution_count": 2,
   "id": "9dcb4196",
   "metadata": {},
   "outputs": [
    {
     "data": {
      "text/plain": [
       "79.46974371794873"
      ]
     },
     "execution_count": 2,
     "metadata": {},
     "output_type": "execute_result"
    }
   ],
   "source": [
    "carstocks['Open'].mean()\n",
    "# 자동차 주가 전체의 시작가격의 평균"
   ]
  },
  {
   "cell_type": "code",
   "execution_count": 3,
   "id": "7a9dbae4",
   "metadata": {},
   "outputs": [
    {
     "data": {
      "text/plain": [
       "127.52307653846154"
      ]
     },
     "execution_count": 3,
     "metadata": {},
     "output_type": "execute_result"
    }
   ],
   "source": [
    "carstocks[carstocks['Symbol']=='RIVN']['Close'].mean()\n",
    "# RIVN 회사의 종가 평균"
   ]
  },
  {
   "cell_type": "code",
   "execution_count": 4,
   "id": "0ad4c4f9",
   "metadata": {},
   "outputs": [
    {
     "data": {
      "text/plain": [
       "Symbol\n",
       "GM       62.164615\n",
       "LCID     49.829231\n",
       "RIVN    127.523077\n",
       "Name: Close, dtype: float64"
      ]
     },
     "execution_count": 4,
     "metadata": {},
     "output_type": "execute_result"
    }
   ],
   "source": [
    "carstocks.groupby('Symbol')['Close'].mean()\n",
    "# 세가지 회사의 종가 평균"
   ]
  },
  {
   "cell_type": "code",
   "execution_count": 593,
   "id": "377bb286",
   "metadata": {
    "scrolled": true
   },
   "outputs": [],
   "source": [
    "titanic = pd.read_csv('data/titanic.csv')"
   ]
  },
  {
   "cell_type": "code",
   "execution_count": 6,
   "id": "29be278b",
   "metadata": {},
   "outputs": [],
   "source": [
    "titanic['age'] = titanic['age'].replace(['?'],[None]).astype(float)\n",
    "# replace는 재배치 메소드이다."
   ]
  },
  {
   "cell_type": "code",
   "execution_count": 7,
   "id": "e71cc402",
   "metadata": {},
   "outputs": [
    {
     "name": "stdout",
     "output_type": "stream",
     "text": [
      "2200원\n"
     ]
    }
   ],
   "source": [
    "m = 11700 - 3900 - 3400 - 2200\n",
    "print(str(m)+\"원\")"
   ]
  },
  {
   "cell_type": "markdown",
   "id": "bc1bc07f",
   "metadata": {},
   "source": [
    "- NaN은 데이터 없다.\n",
    "- ?는 문자형이여서 숫자를 연산 할 수 없다."
   ]
  },
  {
   "cell_type": "code",
   "execution_count": 8,
   "id": "36c7f027",
   "metadata": {},
   "outputs": [
    {
     "name": "stdout",
     "output_type": "stream",
     "text": [
      "Float : 숫자 데이터를 나누게 되면 나머지가 있는 경우가 있다. 이런 경우,\n",
      "표현해야 할 필요가 있는데, float이라는 데이터 타입으로 바꿔주면 소숫점 4자리\n",
      "까지를 기록할 수 있다.\n"
     ]
    }
   ],
   "source": [
    "print(\"Float : 숫자 데이터를 나누게 되면 나머지가 있는 경우가 있다. 이런 경우,\")\n",
    "print(\"표현해야 할 필요가 있는데, float이라는 데이터 타입으로 바꿔주면 소숫점 4자리\")\n",
    "print(\"까지를 기록할 수 있다.\")"
   ]
  },
  {
   "cell_type": "code",
   "execution_count": 9,
   "id": "92d38e80",
   "metadata": {},
   "outputs": [
    {
     "data": {
      "text/html": [
       "<div>\n",
       "<style scoped>\n",
       "    .dataframe tbody tr th:only-of-type {\n",
       "        vertical-align: middle;\n",
       "    }\n",
       "\n",
       "    .dataframe tbody tr th {\n",
       "        vertical-align: top;\n",
       "    }\n",
       "\n",
       "    .dataframe thead th {\n",
       "        text-align: right;\n",
       "    }\n",
       "</style>\n",
       "<table border=\"1\" class=\"dataframe\">\n",
       "  <thead>\n",
       "    <tr style=\"text-align: right;\">\n",
       "      <th></th>\n",
       "      <th>pclass</th>\n",
       "      <th>survived</th>\n",
       "      <th>sex</th>\n",
       "      <th>age</th>\n",
       "    </tr>\n",
       "  </thead>\n",
       "  <tbody>\n",
       "    <tr>\n",
       "      <th>0</th>\n",
       "      <td>1</td>\n",
       "      <td>1</td>\n",
       "      <td>female</td>\n",
       "      <td>29.0000</td>\n",
       "    </tr>\n",
       "    <tr>\n",
       "      <th>1</th>\n",
       "      <td>1</td>\n",
       "      <td>1</td>\n",
       "      <td>male</td>\n",
       "      <td>0.9167</td>\n",
       "    </tr>\n",
       "    <tr>\n",
       "      <th>2</th>\n",
       "      <td>1</td>\n",
       "      <td>0</td>\n",
       "      <td>female</td>\n",
       "      <td>2.0000</td>\n",
       "    </tr>\n",
       "    <tr>\n",
       "      <th>3</th>\n",
       "      <td>1</td>\n",
       "      <td>0</td>\n",
       "      <td>male</td>\n",
       "      <td>30.0000</td>\n",
       "    </tr>\n",
       "    <tr>\n",
       "      <th>4</th>\n",
       "      <td>1</td>\n",
       "      <td>0</td>\n",
       "      <td>female</td>\n",
       "      <td>25.0000</td>\n",
       "    </tr>\n",
       "    <tr>\n",
       "      <th>...</th>\n",
       "      <td>...</td>\n",
       "      <td>...</td>\n",
       "      <td>...</td>\n",
       "      <td>...</td>\n",
       "    </tr>\n",
       "    <tr>\n",
       "      <th>1304</th>\n",
       "      <td>3</td>\n",
       "      <td>0</td>\n",
       "      <td>female</td>\n",
       "      <td>14.5000</td>\n",
       "    </tr>\n",
       "    <tr>\n",
       "      <th>1305</th>\n",
       "      <td>3</td>\n",
       "      <td>0</td>\n",
       "      <td>female</td>\n",
       "      <td>NaN</td>\n",
       "    </tr>\n",
       "    <tr>\n",
       "      <th>1306</th>\n",
       "      <td>3</td>\n",
       "      <td>0</td>\n",
       "      <td>male</td>\n",
       "      <td>26.5000</td>\n",
       "    </tr>\n",
       "    <tr>\n",
       "      <th>1307</th>\n",
       "      <td>3</td>\n",
       "      <td>0</td>\n",
       "      <td>male</td>\n",
       "      <td>27.0000</td>\n",
       "    </tr>\n",
       "    <tr>\n",
       "      <th>1308</th>\n",
       "      <td>3</td>\n",
       "      <td>0</td>\n",
       "      <td>male</td>\n",
       "      <td>29.0000</td>\n",
       "    </tr>\n",
       "  </tbody>\n",
       "</table>\n",
       "<p>1309 rows × 4 columns</p>\n",
       "</div>"
      ],
      "text/plain": [
       "      pclass  survived     sex      age\n",
       "0          1         1  female  29.0000\n",
       "1          1         1    male   0.9167\n",
       "2          1         0  female   2.0000\n",
       "3          1         0    male  30.0000\n",
       "4          1         0  female  25.0000\n",
       "...      ...       ...     ...      ...\n",
       "1304       3         0  female  14.5000\n",
       "1305       3         0  female      NaN\n",
       "1306       3         0    male  26.5000\n",
       "1307       3         0    male  27.0000\n",
       "1308       3         0    male  29.0000\n",
       "\n",
       "[1309 rows x 4 columns]"
      ]
     },
     "execution_count": 9,
     "metadata": {},
     "output_type": "execute_result"
    }
   ],
   "source": [
    "df = titanic[['pclass','survived','sex','age']]\n",
    "df\n",
    "# 에러메세지가 뜨면 읽어보자"
   ]
  },
  {
   "cell_type": "code",
   "execution_count": 10,
   "id": "c35f83d7",
   "metadata": {},
   "outputs": [
    {
     "data": {
      "text/html": [
       "<div>\n",
       "<style scoped>\n",
       "    .dataframe tbody tr th:only-of-type {\n",
       "        vertical-align: middle;\n",
       "    }\n",
       "\n",
       "    .dataframe tbody tr th {\n",
       "        vertical-align: top;\n",
       "    }\n",
       "\n",
       "    .dataframe thead th {\n",
       "        text-align: right;\n",
       "    }\n",
       "</style>\n",
       "<table border=\"1\" class=\"dataframe\">\n",
       "  <thead>\n",
       "    <tr style=\"text-align: right;\">\n",
       "      <th></th>\n",
       "      <th>pclass</th>\n",
       "      <th>survived</th>\n",
       "      <th>age</th>\n",
       "    </tr>\n",
       "    <tr>\n",
       "      <th>sex</th>\n",
       "      <th></th>\n",
       "      <th></th>\n",
       "      <th></th>\n",
       "    </tr>\n",
       "  </thead>\n",
       "  <tbody>\n",
       "    <tr>\n",
       "      <th>female</th>\n",
       "      <td>2.154506</td>\n",
       "      <td>0.727468</td>\n",
       "      <td>28.687071</td>\n",
       "    </tr>\n",
       "    <tr>\n",
       "      <th>male</th>\n",
       "      <td>2.372479</td>\n",
       "      <td>0.190985</td>\n",
       "      <td>30.585233</td>\n",
       "    </tr>\n",
       "  </tbody>\n",
       "</table>\n",
       "</div>"
      ],
      "text/plain": [
       "          pclass  survived        age\n",
       "sex                                  \n",
       "female  2.154506  0.727468  28.687071\n",
       "male    2.372479  0.190985  30.585233"
      ]
     },
     "execution_count": 10,
     "metadata": {},
     "output_type": "execute_result"
    }
   ],
   "source": [
    "df = titanic[['pclass','survived','sex','age']]\n",
    "df.groupby('sex').mean()\n",
    "# 그룹바이를 사용하자"
   ]
  },
  {
   "cell_type": "code",
   "execution_count": 11,
   "id": "2262523f",
   "metadata": {},
   "outputs": [
    {
     "data": {
      "text/plain": [
       "28.918228103044495"
      ]
     },
     "execution_count": 11,
     "metadata": {},
     "output_type": "execute_result"
    }
   ],
   "source": [
    "df[df['survived']==1]['age'].mean()\n",
    "# 생존한 사람들의 나이 평균"
   ]
  },
  {
   "cell_type": "code",
   "execution_count": 12,
   "id": "c5ea7906",
   "metadata": {},
   "outputs": [
    {
     "name": "stderr",
     "output_type": "stream",
     "text": [
      "C:\\Users\\Public\\Documents\\ESTsoft\\CreatorTemp\\ipykernel_9032\\636809000.py:2: FutureWarning: Dropping of nuisance columns in DataFrame reductions (with 'numeric_only=None') is deprecated; in a future version this will raise TypeError.  Select only valid columns before calling the reduction.\n",
      "  df[df['sex']=='male'].mean()\n"
     ]
    },
    {
     "data": {
      "text/plain": [
       "pclass       2.372479\n",
       "survived     0.190985\n",
       "age         30.585233\n",
       "dtype: float64"
      ]
     },
     "execution_count": 12,
     "metadata": {},
     "output_type": "execute_result"
    }
   ],
   "source": [
    "df = titanic[['pclass','survived','sex','age']]\n",
    "df[df['sex']=='male'].mean()"
   ]
  },
  {
   "cell_type": "code",
   "execution_count": 13,
   "id": "d5c07742",
   "metadata": {},
   "outputs": [
    {
     "data": {
      "text/html": [
       "<div>\n",
       "<style scoped>\n",
       "    .dataframe tbody tr th:only-of-type {\n",
       "        vertical-align: middle;\n",
       "    }\n",
       "\n",
       "    .dataframe tbody tr th {\n",
       "        vertical-align: top;\n",
       "    }\n",
       "\n",
       "    .dataframe thead th {\n",
       "        text-align: right;\n",
       "    }\n",
       "</style>\n",
       "<table border=\"1\" class=\"dataframe\">\n",
       "  <thead>\n",
       "    <tr style=\"text-align: right;\">\n",
       "      <th></th>\n",
       "      <th>pclass</th>\n",
       "      <th>survived</th>\n",
       "      <th>sex</th>\n",
       "      <th>age</th>\n",
       "    </tr>\n",
       "  </thead>\n",
       "  <tbody>\n",
       "    <tr>\n",
       "      <th>1</th>\n",
       "      <td>1</td>\n",
       "      <td>1</td>\n",
       "      <td>male</td>\n",
       "      <td>0.9167</td>\n",
       "    </tr>\n",
       "    <tr>\n",
       "      <th>3</th>\n",
       "      <td>1</td>\n",
       "      <td>0</td>\n",
       "      <td>male</td>\n",
       "      <td>30.0000</td>\n",
       "    </tr>\n",
       "    <tr>\n",
       "      <th>5</th>\n",
       "      <td>1</td>\n",
       "      <td>1</td>\n",
       "      <td>male</td>\n",
       "      <td>48.0000</td>\n",
       "    </tr>\n",
       "    <tr>\n",
       "      <th>7</th>\n",
       "      <td>1</td>\n",
       "      <td>0</td>\n",
       "      <td>male</td>\n",
       "      <td>39.0000</td>\n",
       "    </tr>\n",
       "    <tr>\n",
       "      <th>9</th>\n",
       "      <td>1</td>\n",
       "      <td>0</td>\n",
       "      <td>male</td>\n",
       "      <td>71.0000</td>\n",
       "    </tr>\n",
       "    <tr>\n",
       "      <th>...</th>\n",
       "      <td>...</td>\n",
       "      <td>...</td>\n",
       "      <td>...</td>\n",
       "      <td>...</td>\n",
       "    </tr>\n",
       "    <tr>\n",
       "      <th>1302</th>\n",
       "      <td>3</td>\n",
       "      <td>0</td>\n",
       "      <td>male</td>\n",
       "      <td>NaN</td>\n",
       "    </tr>\n",
       "    <tr>\n",
       "      <th>1303</th>\n",
       "      <td>3</td>\n",
       "      <td>0</td>\n",
       "      <td>male</td>\n",
       "      <td>NaN</td>\n",
       "    </tr>\n",
       "    <tr>\n",
       "      <th>1306</th>\n",
       "      <td>3</td>\n",
       "      <td>0</td>\n",
       "      <td>male</td>\n",
       "      <td>26.5000</td>\n",
       "    </tr>\n",
       "    <tr>\n",
       "      <th>1307</th>\n",
       "      <td>3</td>\n",
       "      <td>0</td>\n",
       "      <td>male</td>\n",
       "      <td>27.0000</td>\n",
       "    </tr>\n",
       "    <tr>\n",
       "      <th>1308</th>\n",
       "      <td>3</td>\n",
       "      <td>0</td>\n",
       "      <td>male</td>\n",
       "      <td>29.0000</td>\n",
       "    </tr>\n",
       "  </tbody>\n",
       "</table>\n",
       "<p>843 rows × 4 columns</p>\n",
       "</div>"
      ],
      "text/plain": [
       "      pclass  survived   sex      age\n",
       "1          1         1  male   0.9167\n",
       "3          1         0  male  30.0000\n",
       "5          1         1  male  48.0000\n",
       "7          1         0  male  39.0000\n",
       "9          1         0  male  71.0000\n",
       "...      ...       ...   ...      ...\n",
       "1302       3         0  male      NaN\n",
       "1303       3         0  male      NaN\n",
       "1306       3         0  male  26.5000\n",
       "1307       3         0  male  27.0000\n",
       "1308       3         0  male  29.0000\n",
       "\n",
       "[843 rows x 4 columns]"
      ]
     },
     "execution_count": 13,
     "metadata": {},
     "output_type": "execute_result"
    }
   ],
   "source": [
    "gbo=df.groupby(by=\"sex\")\n",
    "# By는 기준, 수단을 가리킨다. 그래서 성별을 기준으로 데이터를 group으로 나눈다.\n",
    "gbo.get_group('male')"
   ]
  },
  {
   "cell_type": "code",
   "execution_count": 14,
   "id": "cadc212b",
   "metadata": {
    "scrolled": true
   },
   "outputs": [
    {
     "name": "stdout",
     "output_type": "stream",
     "text": [
      "female\n",
      "--------\n",
      "      pclass  survived     sex   age\n",
      "0          1         1  female  29.0\n",
      "2          1         0  female   2.0\n",
      "4          1         0  female  25.0\n",
      "6          1         1  female  63.0\n",
      "8          1         1  female  53.0\n",
      "...      ...       ...     ...   ...\n",
      "1286       3         1  female  38.0\n",
      "1290       3         1  female  47.0\n",
      "1300       3         1  female  15.0\n",
      "1304       3         0  female  14.5\n",
      "1305       3         0  female   NaN\n",
      "\n",
      "[466 rows x 4 columns]\n",
      "male\n",
      "--------\n",
      "      pclass  survived   sex      age\n",
      "1          1         1  male   0.9167\n",
      "3          1         0  male  30.0000\n",
      "5          1         1  male  48.0000\n",
      "7          1         0  male  39.0000\n",
      "9          1         0  male  71.0000\n",
      "...      ...       ...   ...      ...\n",
      "1302       3         0  male      NaN\n",
      "1303       3         0  male      NaN\n",
      "1306       3         0  male  26.5000\n",
      "1307       3         0  male  27.0000\n",
      "1308       3         0  male  29.0000\n",
      "\n",
      "[843 rows x 4 columns]\n"
     ]
    }
   ],
   "source": [
    "for row in gbo:\n",
    "    print(row[0])\n",
    "# 첫번째 데이터\n",
    "    print('--------')\n",
    "    print(row[1])\n",
    "# 두번쨰 데이터"
   ]
  },
  {
   "cell_type": "markdown",
   "id": "8898757c",
   "metadata": {},
   "source": [
    "# df의 데이터를 성별로 구분하여 정리.\n",
    "\n",
    "                          gbo\n",
    "                          - -\n",
    "                         -   -\n",
    "                    female    male\n",
    "                    [data]    [data]"
   ]
  },
  {
   "cell_type": "code",
   "execution_count": 15,
   "id": "2456982e",
   "metadata": {
    "scrolled": true
   },
   "outputs": [
    {
     "name": "stdout",
     "output_type": "stream",
     "text": [
      "female\n",
      "----------\n",
      "      pclass  survived     sex   age\n",
      "0          1         1  female  29.0\n",
      "2          1         0  female   2.0\n",
      "4          1         0  female  25.0\n",
      "6          1         1  female  63.0\n",
      "8          1         1  female  53.0\n",
      "...      ...       ...     ...   ...\n",
      "1286       3         1  female  38.0\n",
      "1290       3         1  female  47.0\n",
      "1300       3         1  female  15.0\n",
      "1304       3         0  female  14.5\n",
      "1305       3         0  female   NaN\n",
      "\n",
      "[466 rows x 4 columns]\n",
      "male\n",
      "----------\n",
      "      pclass  survived   sex      age\n",
      "1          1         1  male   0.9167\n",
      "3          1         0  male  30.0000\n",
      "5          1         1  male  48.0000\n",
      "7          1         0  male  39.0000\n",
      "9          1         0  male  71.0000\n",
      "...      ...       ...   ...      ...\n",
      "1302       3         0  male      NaN\n",
      "1303       3         0  male      NaN\n",
      "1306       3         0  male  26.5000\n",
      "1307       3         0  male  27.0000\n",
      "1308       3         0  male  29.0000\n",
      "\n",
      "[843 rows x 4 columns]\n"
     ]
    }
   ],
   "source": [
    "for i, t in gbo:\n",
    "    print(i)\n",
    "    print('----------')\n",
    "    print(t)"
   ]
  },
  {
   "cell_type": "code",
   "execution_count": 101,
   "id": "5aedc2b3",
   "metadata": {},
   "outputs": [],
   "source": [
    "# 전체 탑승자들 중 최고령 남자, 여자의 나이를 각 각 구하세요."
   ]
  },
  {
   "cell_type": "code",
   "execution_count": 102,
   "id": "1df30837",
   "metadata": {},
   "outputs": [
    {
     "data": {
      "text/plain": [
       "sex\n",
       "female    28.687071\n",
       "male      30.585233\n",
       "Name: age, dtype: float64"
      ]
     },
     "execution_count": 102,
     "metadata": {},
     "output_type": "execute_result"
    }
   ],
   "source": [
    "gbo = df.groupby(by='sex')\n",
    "gbo['age'].mean()"
   ]
  },
  {
   "cell_type": "code",
   "execution_count": 104,
   "id": "58e48d63",
   "metadata": {},
   "outputs": [
    {
     "data": {
      "image/png": "[encoded data removed]",
      "text/plain": [
       "<Figure size 640x480 with 1 Axes>"
      ]
     },
     "metadata": {},
     "output_type": "display_data"
    }
   ],
   "source": [
    "# 아래와 같이 남녀 탑승객의 나이 평균값이 그래프로 표현되도록 하세요.\n",
    "import matplotlib.pyplot as plt\n",
    "gbo['age'].mean().plot(kind='bar', title='Average Age By Sex')\n",
    "# plt.title('Average Age By Sex')\n",
    "plt.show()"
   ]
  },
  {
   "cell_type": "code",
   "execution_count": 108,
   "id": "eaa45f07",
   "metadata": {},
   "outputs": [],
   "source": [
    "# 아래와 같이 titanic 탑승객의 pclass에 따른 평균 나이를 구하세요."
   ]
  },
  {
   "cell_type": "code",
   "execution_count": 148,
   "id": "9d96617a",
   "metadata": {},
   "outputs": [
    {
     "data": {
      "text/plain": [
       "pclass\n",
       "1    39.159918\n",
       "2    29.506705\n",
       "3    24.816367\n",
       "Name: age, dtype: float64"
      ]
     },
     "execution_count": 148,
     "metadata": {},
     "output_type": "execute_result"
    }
   ],
   "source": [
    "titanic.groupby('pclass')['age'].mean()"
   ]
  },
  {
   "cell_type": "code",
   "execution_count": 150,
   "id": "5d0d13a4",
   "metadata": {},
   "outputs": [
    {
     "data": {
      "text/plain": [
       "sex\n",
       "female    2.154506\n",
       "male      2.372479\n",
       "Name: pclass, dtype: float64"
      ]
     },
     "execution_count": 150,
     "metadata": {},
     "output_type": "execute_result"
    }
   ],
   "source": [
    "gbo['pclass'].mean()"
   ]
  },
  {
   "cell_type": "code",
   "execution_count": 170,
   "id": "5b528326",
   "metadata": {},
   "outputs": [
    {
     "data": {
      "text/plain": [
       "Symbol\n",
       "GM       65.180000\n",
       "LCID     57.750000\n",
       "RIVN    179.470001\n",
       "Name: High, dtype: float64"
      ]
     },
     "execution_count": 170,
     "metadata": {},
     "output_type": "execute_result"
    }
   ],
   "source": [
    "carstocks.groupby('Symbol')['High'].max()\n",
    "# 내가 한 방법\n",
    "gbo3 = carstocks.groupby(by='Symbol')\n",
    "gbo3['High'].max()\n",
    "# 친구들이 한 방법"
   ]
  },
  {
   "cell_type": "code",
   "execution_count": 226,
   "id": "c420db25",
   "metadata": {},
   "outputs": [
    {
     "data": {
      "text/html": [
       "<div>\n",
       "<style scoped>\n",
       "    .dataframe tbody tr th:only-of-type {\n",
       "        vertical-align: middle;\n",
       "    }\n",
       "\n",
       "    .dataframe tbody tr th {\n",
       "        vertical-align: top;\n",
       "    }\n",
       "\n",
       "    .dataframe thead th {\n",
       "        text-align: right;\n",
       "    }\n",
       "</style>\n",
       "<table border=\"1\" class=\"dataframe\">\n",
       "  <thead>\n",
       "    <tr style=\"text-align: right;\">\n",
       "      <th></th>\n",
       "      <th>min</th>\n",
       "      <th>max</th>\n",
       "    </tr>\n",
       "    <tr>\n",
       "      <th>sex</th>\n",
       "      <th></th>\n",
       "      <th></th>\n",
       "    </tr>\n",
       "  </thead>\n",
       "  <tbody>\n",
       "    <tr>\n",
       "      <th>female</th>\n",
       "      <td>0.1667</td>\n",
       "      <td>76.0</td>\n",
       "    </tr>\n",
       "    <tr>\n",
       "      <th>male</th>\n",
       "      <td>0.3333</td>\n",
       "      <td>80.0</td>\n",
       "    </tr>\n",
       "  </tbody>\n",
       "</table>\n",
       "</div>"
      ],
      "text/plain": [
       "           min   max\n",
       "sex                 \n",
       "female  0.1667  76.0\n",
       "male    0.3333  80.0"
      ]
     },
     "execution_count": 226,
     "metadata": {},
     "output_type": "execute_result"
    }
   ],
   "source": [
    "titanic.groupby('sex')['age'].agg(['min','max'])\n",
    "# 메소드를 동시에 여러게 보여주고 싶을때 agg 메소드를 사용한다."
   ]
  },
  {
   "cell_type": "code",
   "execution_count": 275,
   "id": "bdb9e14c",
   "metadata": {},
   "outputs": [
    {
     "data": {
      "text/html": [
       "<div>\n",
       "<style scoped>\n",
       "    .dataframe tbody tr th:only-of-type {\n",
       "        vertical-align: middle;\n",
       "    }\n",
       "\n",
       "    .dataframe tbody tr th {\n",
       "        vertical-align: top;\n",
       "    }\n",
       "\n",
       "    .dataframe thead th {\n",
       "        text-align: right;\n",
       "    }\n",
       "</style>\n",
       "<table border=\"1\" class=\"dataframe\">\n",
       "  <thead>\n",
       "    <tr style=\"text-align: right;\">\n",
       "      <th></th>\n",
       "      <th>min</th>\n",
       "      <th>max</th>\n",
       "      <th>mean</th>\n",
       "      <th>median</th>\n",
       "    </tr>\n",
       "    <tr>\n",
       "      <th>sex</th>\n",
       "      <th></th>\n",
       "      <th></th>\n",
       "      <th></th>\n",
       "      <th></th>\n",
       "    </tr>\n",
       "  </thead>\n",
       "  <tbody>\n",
       "    <tr>\n",
       "      <th>female</th>\n",
       "      <td>0.1667</td>\n",
       "      <td>76.0</td>\n",
       "      <td>28.687071</td>\n",
       "      <td>27.0</td>\n",
       "    </tr>\n",
       "    <tr>\n",
       "      <th>male</th>\n",
       "      <td>0.3333</td>\n",
       "      <td>80.0</td>\n",
       "      <td>30.585233</td>\n",
       "      <td>28.0</td>\n",
       "    </tr>\n",
       "  </tbody>\n",
       "</table>\n",
       "</div>"
      ],
      "text/plain": [
       "           min   max       mean  median\n",
       "sex                                    \n",
       "female  0.1667  76.0  28.687071    27.0\n",
       "male    0.3333  80.0  30.585233    28.0"
      ]
     },
     "execution_count": 275,
     "metadata": {},
     "output_type": "execute_result"
    }
   ],
   "source": [
    "titanic.groupby('sex')['age'].agg(['min','max','mean','median'])\n",
    "# 메소드를 동시에 여러게 보여주고 싶을때 agg 메소드를 사용한다."
   ]
  },
  {
   "cell_type": "code",
   "execution_count": 324,
   "id": "9e8400a7",
   "metadata": {},
   "outputs": [
    {
     "data": {
      "text/html": [
       "<div>\n",
       "<style scoped>\n",
       "    .dataframe tbody tr th:only-of-type {\n",
       "        vertical-align: middle;\n",
       "    }\n",
       "\n",
       "    .dataframe tbody tr th {\n",
       "        vertical-align: top;\n",
       "    }\n",
       "\n",
       "    .dataframe thead tr th {\n",
       "        text-align: left;\n",
       "    }\n",
       "\n",
       "    .dataframe thead tr:last-of-type th {\n",
       "        text-align: right;\n",
       "    }\n",
       "</style>\n",
       "<table border=\"1\" class=\"dataframe\">\n",
       "  <thead>\n",
       "    <tr>\n",
       "      <th></th>\n",
       "      <th colspan=\"2\" halign=\"left\">age</th>\n",
       "      <th>pclass</th>\n",
       "    </tr>\n",
       "    <tr>\n",
       "      <th></th>\n",
       "      <th>min</th>\n",
       "      <th>max</th>\n",
       "      <th>mean</th>\n",
       "    </tr>\n",
       "    <tr>\n",
       "      <th>sex</th>\n",
       "      <th></th>\n",
       "      <th></th>\n",
       "      <th></th>\n",
       "    </tr>\n",
       "  </thead>\n",
       "  <tbody>\n",
       "    <tr>\n",
       "      <th>female</th>\n",
       "      <td>0.1667</td>\n",
       "      <td>76.0</td>\n",
       "      <td>2.154506</td>\n",
       "    </tr>\n",
       "    <tr>\n",
       "      <th>male</th>\n",
       "      <td>0.3333</td>\n",
       "      <td>80.0</td>\n",
       "      <td>2.372479</td>\n",
       "    </tr>\n",
       "  </tbody>\n",
       "</table>\n",
       "</div>"
      ],
      "text/plain": [
       "           age          pclass\n",
       "           min   max      mean\n",
       "sex                           \n",
       "female  0.1667  76.0  2.154506\n",
       "male    0.3333  80.0  2.372479"
      ]
     },
     "execution_count": 324,
     "metadata": {},
     "output_type": "execute_result"
    }
   ],
   "source": [
    "titanic.groupby('sex').agg({'age':['min','max'],'pclass':'mean'})\n",
    "# agg() 소가로 안에서 {} 중가로를 사용해 나눠준다."
   ]
  },
  {
   "cell_type": "code",
   "execution_count": 336,
   "id": "9629b4ac",
   "metadata": {},
   "outputs": [
    {
     "data": {
      "text/html": [
       "<div>\n",
       "<style scoped>\n",
       "    .dataframe tbody tr th:only-of-type {\n",
       "        vertical-align: middle;\n",
       "    }\n",
       "\n",
       "    .dataframe tbody tr th {\n",
       "        vertical-align: top;\n",
       "    }\n",
       "\n",
       "    .dataframe thead th {\n",
       "        text-align: right;\n",
       "    }\n",
       "</style>\n",
       "<table border=\"1\" class=\"dataframe\">\n",
       "  <thead>\n",
       "    <tr style=\"text-align: right;\">\n",
       "      <th></th>\n",
       "      <th>Symbol</th>\n",
       "      <th>Date</th>\n",
       "      <th>Open</th>\n",
       "      <th>High</th>\n",
       "      <th>Low</th>\n",
       "      <th>Close</th>\n",
       "      <th>Adj Close</th>\n",
       "      <th>Volume</th>\n",
       "    </tr>\n",
       "  </thead>\n",
       "  <tbody>\n",
       "  </tbody>\n",
       "</table>\n",
       "</div>"
      ],
      "text/plain": [
       "Empty DataFrame\n",
       "Columns: [Symbol, Date, Open, High, Low, Close, Adj Close, Volume]\n",
       "Index: []"
      ]
     },
     "execution_count": 336,
     "metadata": {},
     "output_type": "execute_result"
    }
   ],
   "source": [
    "carstocks.head(0)"
   ]
  },
  {
   "cell_type": "code",
   "execution_count": 408,
   "id": "d8608119",
   "metadata": {},
   "outputs": [
    {
     "data": {
      "text/html": [
       "<div>\n",
       "<style scoped>\n",
       "    .dataframe tbody tr th:only-of-type {\n",
       "        vertical-align: middle;\n",
       "    }\n",
       "\n",
       "    .dataframe tbody tr th {\n",
       "        vertical-align: top;\n",
       "    }\n",
       "\n",
       "    .dataframe thead tr th {\n",
       "        text-align: left;\n",
       "    }\n",
       "\n",
       "    .dataframe thead tr:last-of-type th {\n",
       "        text-align: right;\n",
       "    }\n",
       "</style>\n",
       "<table border=\"1\" class=\"dataframe\">\n",
       "  <thead>\n",
       "    <tr>\n",
       "      <th></th>\n",
       "      <th>Open</th>\n",
       "      <th>Close</th>\n",
       "      <th colspan=\"2\" halign=\"left\">Volume</th>\n",
       "    </tr>\n",
       "    <tr>\n",
       "      <th></th>\n",
       "      <th>mean</th>\n",
       "      <th>mean</th>\n",
       "      <th>mean</th>\n",
       "      <th>sum</th>\n",
       "    </tr>\n",
       "    <tr>\n",
       "      <th>Symbol</th>\n",
       "      <th></th>\n",
       "      <th></th>\n",
       "      <th></th>\n",
       "      <th></th>\n",
       "    </tr>\n",
       "  </thead>\n",
       "  <tbody>\n",
       "    <tr>\n",
       "      <th>GM</th>\n",
       "      <td>61.937693</td>\n",
       "      <td>62.164615</td>\n",
       "      <td>2.025259e+07</td>\n",
       "      <td>263283700</td>\n",
       "    </tr>\n",
       "    <tr>\n",
       "      <th>LCID</th>\n",
       "      <td>48.761538</td>\n",
       "      <td>49.829231</td>\n",
       "      <td>1.081098e+08</td>\n",
       "      <td>1405427200</td>\n",
       "    </tr>\n",
       "    <tr>\n",
       "      <th>RIVN</th>\n",
       "      <td>127.710000</td>\n",
       "      <td>127.523077</td>\n",
       "      <td>5.252395e+07</td>\n",
       "      <td>682811400</td>\n",
       "    </tr>\n",
       "  </tbody>\n",
       "</table>\n",
       "</div>"
      ],
      "text/plain": [
       "              Open       Close        Volume            \n",
       "              mean        mean          mean         sum\n",
       "Symbol                                                  \n",
       "GM       61.937693   62.164615  2.025259e+07   263283700\n",
       "LCID     48.761538   49.829231  1.081098e+08  1405427200\n",
       "RIVN    127.710000  127.523077  5.252395e+07   682811400"
      ]
     },
     "execution_count": 408,
     "metadata": {},
     "output_type": "execute_result"
    }
   ],
   "source": [
    "carstocks.groupby('Symbol').agg({'Open':'mean','Close':'mean','Volume':['mean','sum']})\n",
    "# sum은 총합"
   ]
  },
  {
   "cell_type": "code",
   "execution_count": 591,
   "id": "030b1d5a",
   "metadata": {},
   "outputs": [
    {
     "data": {
      "text/html": [
       "<div>\n",
       "<style scoped>\n",
       "    .dataframe tbody tr th:only-of-type {\n",
       "        vertical-align: middle;\n",
       "    }\n",
       "\n",
       "    .dataframe tbody tr th {\n",
       "        vertical-align: top;\n",
       "    }\n",
       "\n",
       "    .dataframe thead tr th {\n",
       "        text-align: left;\n",
       "    }\n",
       "\n",
       "    .dataframe thead tr:last-of-type th {\n",
       "        text-align: right;\n",
       "    }\n",
       "</style>\n",
       "<table border=\"1\" class=\"dataframe\">\n",
       "  <thead>\n",
       "    <tr>\n",
       "      <th></th>\n",
       "      <th colspan=\"3\" halign=\"left\">age</th>\n",
       "    </tr>\n",
       "    <tr>\n",
       "      <th></th>\n",
       "      <th>min</th>\n",
       "      <th>max</th>\n",
       "      <th>range</th>\n",
       "    </tr>\n",
       "    <tr>\n",
       "      <th>pclass</th>\n",
       "      <th></th>\n",
       "      <th></th>\n",
       "      <th></th>\n",
       "    </tr>\n",
       "  </thead>\n",
       "  <tbody>\n",
       "    <tr>\n",
       "      <th>1</th>\n",
       "      <td>0.9167</td>\n",
       "      <td>80.0</td>\n",
       "      <td>79.0833</td>\n",
       "    </tr>\n",
       "    <tr>\n",
       "      <th>2</th>\n",
       "      <td>0.6667</td>\n",
       "      <td>70.0</td>\n",
       "      <td>69.3333</td>\n",
       "    </tr>\n",
       "    <tr>\n",
       "      <th>3</th>\n",
       "      <td>0.1667</td>\n",
       "      <td>74.0</td>\n",
       "      <td>73.8333</td>\n",
       "    </tr>\n",
       "  </tbody>\n",
       "</table>\n",
       "</div>"
      ],
      "text/plain": [
       "           age               \n",
       "           min   max    range\n",
       "pclass                       \n",
       "1       0.9167  80.0  79.0833\n",
       "2       0.6667  70.0  69.3333\n",
       "3       0.1667  74.0  73.8333"
      ]
     },
     "execution_count": 591,
     "metadata": {},
     "output_type": "execute_result"
    }
   ],
   "source": [
    "def range(a):\n",
    "    return a.max()-a.min()\n",
    "# 최대값에서 최소값을 빼면 둘의 차이를 알 수 있다\n",
    "titanic.groupby('pclass').agg({'age':['min','max',range]})"
   ]
  },
  {
   "cell_type": "code",
   "execution_count": 592,
   "id": "38e051bf",
   "metadata": {},
   "outputs": [
    {
     "data": {
      "text/plain": [
       "pclass\n",
       "1    323\n",
       "2    277\n",
       "3    709\n",
       "Name: survived, dtype: int64"
      ]
     },
     "execution_count": 592,
     "metadata": {},
     "output_type": "execute_result"
    }
   ],
   "source": [
    "titanic.groupby('pclass')['survived'].count()\n",
    "# count로 개수를 세자"
   ]
  },
  {
   "cell_type": "code",
   "execution_count": 612,
   "id": "e0031cc6",
   "metadata": {},
   "outputs": [
    {
     "data": {
      "text/html": [
       "<div>\n",
       "<style scoped>\n",
       "    .dataframe tbody tr th:only-of-type {\n",
       "        vertical-align: middle;\n",
       "    }\n",
       "\n",
       "    .dataframe tbody tr th {\n",
       "        vertical-align: top;\n",
       "    }\n",
       "\n",
       "    .dataframe thead th {\n",
       "        text-align: right;\n",
       "    }\n",
       "</style>\n",
       "<table border=\"1\" class=\"dataframe\">\n",
       "  <thead>\n",
       "    <tr style=\"text-align: right;\">\n",
       "      <th></th>\n",
       "      <th>age</th>\n",
       "    </tr>\n",
       "    <tr>\n",
       "      <th>pclass</th>\n",
       "      <th></th>\n",
       "    </tr>\n",
       "  </thead>\n",
       "  <tbody>\n",
       "    <tr>\n",
       "      <th>1</th>\n",
       "      <td>323</td>\n",
       "    </tr>\n",
       "    <tr>\n",
       "      <th>2</th>\n",
       "      <td>277</td>\n",
       "    </tr>\n",
       "    <tr>\n",
       "      <th>3</th>\n",
       "      <td>709</td>\n",
       "    </tr>\n",
       "  </tbody>\n",
       "</table>\n",
       "</div>"
      ],
      "text/plain": [
       "        age\n",
       "pclass     \n",
       "1       323\n",
       "2       277\n",
       "3       709"
      ]
     },
     "execution_count": 612,
     "metadata": {},
     "output_type": "execute_result"
    }
   ],
   "source": [
    "def range(a):\n",
    "    return a.count()\n",
    "titanic.groupby('pclass').agg({'age':range})\n",
    "# 변수를 활용한 개수 세기"
   ]
  },
  {
   "cell_type": "code",
   "execution_count": null,
   "id": "428b7a70",
   "metadata": {},
   "outputs": [],
   "source": []
  }
 ],
 "metadata": {
  "kernelspec": {
   "display_name": "Python 3 (ipykernel)",
   "language": "python",
   "name": "python3"
  },
  "language_info": {
   "codemirror_mode": {
    "name": "ipython",
    "version": 3
   },
   "file_extension": ".py",
   "mimetype": "text/x-python",
   "name": "python",
   "nbconvert_exporter": "python",
   "pygments_lexer": "ipython3",
   "version": "3.9.13"
  }
 },
 "nbformat": 4,
 "nbformat_minor": 5
}
